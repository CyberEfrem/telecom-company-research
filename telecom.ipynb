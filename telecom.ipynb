{
 "cells": [
  {
   "cell_type": "markdown",
   "metadata": {},
   "source": [
    "# Определение перспективного тарифа для телеком компании\n",
    "<hr>\n",
    "**Задача**\n",
    "\n",
    "Нужно проанализировать поведение клиентов и сделать вывод — какой тариф лучше.\n",
    "\n",
    "**Описание тарифов**\n",
    "\n",
    "«Мегалайн» всегда округляет вверх значения минут и мегабайтов. Если пользователь проговорил всего 1 секунду, в тарифе засчитывается целая минута.\n",
    "\n",
    "\n",
    "|             Услуги               |    Смарт     |   Ультра     |\n",
    "|----------------------------------|--------------|--------------|\n",
    "|Ежемесячная плата, руб.           |    550       |   1950       |\n",
    "|Включено: мин/смс/Гб              |   500/50/15  | 3000/1000/30 |\n",
    "|Сверх пакета, ру.: мин/смс/Гб     |   3/3/200    |   1/1/150    |\n",
    "\n",
    "**Описание данных**\n",
    "\n",
    "*Таблица users (информация о пользователях):*\n",
    "- user_id — уникальный идентификатор пользователя\n",
    "- first_name — имя пользователя\n",
    "- last_name — фамилия пользователя\n",
    "- age — возраст пользователя (годы)\n",
    "- reg_date — дата подключения тарифа (день, месяц, год)\n",
    "- churn_date — дата прекращения пользования тарифом (если значение пропущено, то тариф ещё действовал на момент выгрузки данных)\n",
    "- city — город проживания пользователя\n",
    "- tarif — название тарифного плана\n",
    "\n",
    "*Таблица calls (информация о звонках):*\n",
    "- id — уникальный номер звонка\n",
    "- call_date — дата звонка\n",
    "- duration — длительность звонка в минутах\n",
    "- user_id — идентификатор пользователя, сделавшего звонок\n",
    "\n",
    "*Таблица messages (информация о сообщениях):*\n",
    "- id — уникальный номер сообщения\n",
    "- message_date — дата сообщения\n",
    "- user_id — идентификатор пользователя, отправившего сообщение\n",
    "\n",
    "*Таблица internet (информация об интернет-сессиях):*\n",
    "- id — уникальный номер сессии\n",
    "- mb_used — объём потраченного за сессию интернет-трафика (в мегабайтах)\n",
    "- session_date — дата интернет-сессии\n",
    "- user_id — идентификатор пользователя\n",
    "\n",
    "\n",
    "*Таблица tariffs (информация о тарифах):*\n",
    "- tariff_name — название тарифа\n",
    "- rub_monthly_fee — ежемесячная абонентская плата в рублях\n",
    "- minutes_included — количество минут разговора в месяц, включённых в абонентскую плату\n",
    "- messages_included — количество сообщений в месяц, включённых в абонентскую плату\n",
    "- mb_per_month_included — объём интернет-трафика, включённого в абонентскую плату (в мегабайтах)\n",
    "- rub_per_minute — стоимость минуты разговора сверх тарифного пакета (например, если в тарифе 100 минут разговора в месяц, то со 101 минуты будет взиматься плата)\n",
    "- rub_per_message — стоимость отправки сообщения сверх тарифного пакета\n",
    "- rub_per_gb — стоимость дополнительного гигабайта интернет-трафика сверх тарифного пакета (1 гигабайт = 1024 мегабайта)\n"
   ]
  },
  {
   "cell_type": "markdown",
   "metadata": {},
   "source": [
    "# 1. **Общая информация о данных**\n",
    "\n",
    "Открываем файлы с данными и изучаем общую информацию."
   ]
  },
  {
   "cell_type": "code",
   "execution_count": 1,
   "metadata": {},
   "outputs": [],
   "source": [
    "import pandas as pd\n",
    "import matplotlib.pyplot as plt\n",
    "import math\n",
    "import numpy as np\n",
    "from scipy import stats as st\n",
    "import copy\n",
    "\n",
    "calls = pd.read_csv('/datasets/calls.csv')\n",
    "internet = pd.read_csv('/datasets/internet.csv')\n",
    "messages = pd.read_csv('/datasets/messages.csv')\n",
    "tariffs = pd.read_csv('/datasets/tariffs.csv')\n",
    "users = pd.read_csv('/datasets/users.csv')"
   ]
  },
  {
   "cell_type": "code",
   "execution_count": 2,
   "metadata": {},
   "outputs": [
    {
     "name": "stdout",
     "output_type": "stream",
     "text": [
      "<class 'pandas.core.frame.DataFrame'>\n",
      "RangeIndex: 202607 entries, 0 to 202606\n",
      "Data columns (total 4 columns):\n",
      "id           202607 non-null object\n",
      "call_date    202607 non-null object\n",
      "duration     202607 non-null float64\n",
      "user_id      202607 non-null int64\n",
      "dtypes: float64(1), int64(1), object(2)\n",
      "memory usage: 6.2+ MB\n"
     ]
    },
    {
     "data": {
      "text/plain": [
       "None"
      ]
     },
     "metadata": {},
     "output_type": "display_data"
    },
    {
     "name": "stdout",
     "output_type": "stream",
     "text": [
      "*************************************************************************************\n",
      "<class 'pandas.core.frame.DataFrame'>\n",
      "RangeIndex: 149396 entries, 0 to 149395\n",
      "Data columns (total 5 columns):\n",
      "Unnamed: 0      149396 non-null int64\n",
      "id              149396 non-null object\n",
      "mb_used         149396 non-null float64\n",
      "session_date    149396 non-null object\n",
      "user_id         149396 non-null int64\n",
      "dtypes: float64(1), int64(2), object(2)\n",
      "memory usage: 5.7+ MB\n"
     ]
    },
    {
     "data": {
      "text/plain": [
       "None"
      ]
     },
     "metadata": {},
     "output_type": "display_data"
    },
    {
     "name": "stdout",
     "output_type": "stream",
     "text": [
      "*************************************************************************************\n",
      "<class 'pandas.core.frame.DataFrame'>\n",
      "RangeIndex: 123036 entries, 0 to 123035\n",
      "Data columns (total 3 columns):\n",
      "id              123036 non-null object\n",
      "message_date    123036 non-null object\n",
      "user_id         123036 non-null int64\n",
      "dtypes: int64(1), object(2)\n",
      "memory usage: 2.8+ MB\n"
     ]
    },
    {
     "data": {
      "text/plain": [
       "None"
      ]
     },
     "metadata": {},
     "output_type": "display_data"
    },
    {
     "name": "stdout",
     "output_type": "stream",
     "text": [
      "*************************************************************************************\n",
      "<class 'pandas.core.frame.DataFrame'>\n",
      "RangeIndex: 500 entries, 0 to 499\n",
      "Data columns (total 8 columns):\n",
      "user_id       500 non-null int64\n",
      "age           500 non-null int64\n",
      "churn_date    38 non-null object\n",
      "city          500 non-null object\n",
      "first_name    500 non-null object\n",
      "last_name     500 non-null object\n",
      "reg_date      500 non-null object\n",
      "tariff        500 non-null object\n",
      "dtypes: int64(2), object(6)\n",
      "memory usage: 31.4+ KB\n"
     ]
    },
    {
     "data": {
      "text/plain": [
       "None"
      ]
     },
     "metadata": {},
     "output_type": "display_data"
    },
    {
     "name": "stdout",
     "output_type": "stream",
     "text": [
      "*************************************************************************************\n",
      "<class 'pandas.core.frame.DataFrame'>\n",
      "RangeIndex: 2 entries, 0 to 1\n",
      "Data columns (total 8 columns):\n",
      "messages_included        2 non-null int64\n",
      "mb_per_month_included    2 non-null int64\n",
      "minutes_included         2 non-null int64\n",
      "rub_monthly_fee          2 non-null int64\n",
      "rub_per_gb               2 non-null int64\n",
      "rub_per_message          2 non-null int64\n",
      "rub_per_minute           2 non-null int64\n",
      "tariff_name              2 non-null object\n",
      "dtypes: int64(7), object(1)\n",
      "memory usage: 256.0+ bytes\n"
     ]
    },
    {
     "data": {
      "text/plain": [
       "None"
      ]
     },
     "metadata": {},
     "output_type": "display_data"
    },
    {
     "name": "stdout",
     "output_type": "stream",
     "text": [
      "*************************************************************************************\n"
     ]
    }
   ],
   "source": [
    "for data in [calls, internet, messages, users, tariffs]: \n",
    "    display(data.info())\n",
    "    (print('*' * 85))"
   ]
  },
  {
   "cell_type": "markdown",
   "metadata": {},
   "source": [
    "У нас есть данные по 500 клиентам.\n",
    "\n",
    "- В таблице `users`, столбцах `reg_date`, `churn_date`, в таблице `internet`, столбце `session_date`, в таблице `messages`, столбце `message_date`, в таблице `calls`, столбце `call_date`, нужно заменить тип данных на datetime.\n",
    "- Необходимо округлить минуты и интернет трафик в большую сторону, в соответствии с механизмом списания.\n",
    "\n",
    "После объединения могут возникнуть пропущенные значения, не забываем об этом."
   ]
  },
  {
   "cell_type": "markdown",
   "metadata": {},
   "source": [
    "# 2. **Подготовка данных**\n",
    "\n",
    "Приводим данные к нужным типам, ищем ошибки."
   ]
  },
  {
   "cell_type": "code",
   "execution_count": 3,
   "metadata": {},
   "outputs": [],
   "source": [
    "time_cols = [calls['call_date'], internet['session_date'], messages['message_date'], users['churn_date'], users['reg_date']]\n",
    "for col in time_cols:\n",
    "    col = pd.to_datetime(col, format='%Y-%m-%d')"
   ]
  },
  {
   "cell_type": "code",
   "execution_count": 4,
   "metadata": {},
   "outputs": [
    {
     "data": {
      "text/html": [
       "<div>\n",
       "<style scoped>\n",
       "    .dataframe tbody tr th:only-of-type {\n",
       "        vertical-align: middle;\n",
       "    }\n",
       "\n",
       "    .dataframe tbody tr th {\n",
       "        vertical-align: top;\n",
       "    }\n",
       "\n",
       "    .dataframe thead th {\n",
       "        text-align: right;\n",
       "    }\n",
       "</style>\n",
       "<table border=\"1\" class=\"dataframe\">\n",
       "  <thead>\n",
       "    <tr style=\"text-align: right;\">\n",
       "      <th></th>\n",
       "      <th>id</th>\n",
       "      <th>call_date</th>\n",
       "      <th>duration</th>\n",
       "      <th>user_id</th>\n",
       "    </tr>\n",
       "  </thead>\n",
       "  <tbody>\n",
       "    <tr>\n",
       "      <td>0</td>\n",
       "      <td>1000_0</td>\n",
       "      <td>2018-07-25</td>\n",
       "      <td>0.00</td>\n",
       "      <td>1000</td>\n",
       "    </tr>\n",
       "    <tr>\n",
       "      <td>1</td>\n",
       "      <td>1000_1</td>\n",
       "      <td>2018-08-17</td>\n",
       "      <td>0.00</td>\n",
       "      <td>1000</td>\n",
       "    </tr>\n",
       "    <tr>\n",
       "      <td>2</td>\n",
       "      <td>1000_2</td>\n",
       "      <td>2018-06-11</td>\n",
       "      <td>2.85</td>\n",
       "      <td>1000</td>\n",
       "    </tr>\n",
       "    <tr>\n",
       "      <td>3</td>\n",
       "      <td>1000_3</td>\n",
       "      <td>2018-09-21</td>\n",
       "      <td>13.80</td>\n",
       "      <td>1000</td>\n",
       "    </tr>\n",
       "    <tr>\n",
       "      <td>4</td>\n",
       "      <td>1000_4</td>\n",
       "      <td>2018-12-15</td>\n",
       "      <td>5.18</td>\n",
       "      <td>1000</td>\n",
       "    </tr>\n",
       "  </tbody>\n",
       "</table>\n",
       "</div>"
      ],
      "text/plain": [
       "       id   call_date  duration  user_id\n",
       "0  1000_0  2018-07-25      0.00     1000\n",
       "1  1000_1  2018-08-17      0.00     1000\n",
       "2  1000_2  2018-06-11      2.85     1000\n",
       "3  1000_3  2018-09-21     13.80     1000\n",
       "4  1000_4  2018-12-15      5.18     1000"
      ]
     },
     "metadata": {},
     "output_type": "display_data"
    },
    {
     "data": {
      "text/html": [
       "<div>\n",
       "<style scoped>\n",
       "    .dataframe tbody tr th:only-of-type {\n",
       "        vertical-align: middle;\n",
       "    }\n",
       "\n",
       "    .dataframe tbody tr th {\n",
       "        vertical-align: top;\n",
       "    }\n",
       "\n",
       "    .dataframe thead th {\n",
       "        text-align: right;\n",
       "    }\n",
       "</style>\n",
       "<table border=\"1\" class=\"dataframe\">\n",
       "  <thead>\n",
       "    <tr style=\"text-align: right;\">\n",
       "      <th></th>\n",
       "      <th>Unnamed: 0</th>\n",
       "      <th>id</th>\n",
       "      <th>mb_used</th>\n",
       "      <th>session_date</th>\n",
       "      <th>user_id</th>\n",
       "    </tr>\n",
       "  </thead>\n",
       "  <tbody>\n",
       "    <tr>\n",
       "      <td>0</td>\n",
       "      <td>0</td>\n",
       "      <td>1000_0</td>\n",
       "      <td>112.95</td>\n",
       "      <td>2018-11-25</td>\n",
       "      <td>1000</td>\n",
       "    </tr>\n",
       "    <tr>\n",
       "      <td>1</td>\n",
       "      <td>1</td>\n",
       "      <td>1000_1</td>\n",
       "      <td>1052.81</td>\n",
       "      <td>2018-09-07</td>\n",
       "      <td>1000</td>\n",
       "    </tr>\n",
       "    <tr>\n",
       "      <td>2</td>\n",
       "      <td>2</td>\n",
       "      <td>1000_2</td>\n",
       "      <td>1197.26</td>\n",
       "      <td>2018-06-25</td>\n",
       "      <td>1000</td>\n",
       "    </tr>\n",
       "    <tr>\n",
       "      <td>3</td>\n",
       "      <td>3</td>\n",
       "      <td>1000_3</td>\n",
       "      <td>550.27</td>\n",
       "      <td>2018-08-22</td>\n",
       "      <td>1000</td>\n",
       "    </tr>\n",
       "    <tr>\n",
       "      <td>4</td>\n",
       "      <td>4</td>\n",
       "      <td>1000_4</td>\n",
       "      <td>302.56</td>\n",
       "      <td>2018-09-24</td>\n",
       "      <td>1000</td>\n",
       "    </tr>\n",
       "  </tbody>\n",
       "</table>\n",
       "</div>"
      ],
      "text/plain": [
       "   Unnamed: 0      id  mb_used session_date  user_id\n",
       "0           0  1000_0   112.95   2018-11-25     1000\n",
       "1           1  1000_1  1052.81   2018-09-07     1000\n",
       "2           2  1000_2  1197.26   2018-06-25     1000\n",
       "3           3  1000_3   550.27   2018-08-22     1000\n",
       "4           4  1000_4   302.56   2018-09-24     1000"
      ]
     },
     "metadata": {},
     "output_type": "display_data"
    },
    {
     "data": {
      "text/html": [
       "<div>\n",
       "<style scoped>\n",
       "    .dataframe tbody tr th:only-of-type {\n",
       "        vertical-align: middle;\n",
       "    }\n",
       "\n",
       "    .dataframe tbody tr th {\n",
       "        vertical-align: top;\n",
       "    }\n",
       "\n",
       "    .dataframe thead th {\n",
       "        text-align: right;\n",
       "    }\n",
       "</style>\n",
       "<table border=\"1\" class=\"dataframe\">\n",
       "  <thead>\n",
       "    <tr style=\"text-align: right;\">\n",
       "      <th></th>\n",
       "      <th>id</th>\n",
       "      <th>message_date</th>\n",
       "      <th>user_id</th>\n",
       "    </tr>\n",
       "  </thead>\n",
       "  <tbody>\n",
       "    <tr>\n",
       "      <td>0</td>\n",
       "      <td>1000_0</td>\n",
       "      <td>2018-06-27</td>\n",
       "      <td>1000</td>\n",
       "    </tr>\n",
       "    <tr>\n",
       "      <td>1</td>\n",
       "      <td>1000_1</td>\n",
       "      <td>2018-10-08</td>\n",
       "      <td>1000</td>\n",
       "    </tr>\n",
       "    <tr>\n",
       "      <td>2</td>\n",
       "      <td>1000_2</td>\n",
       "      <td>2018-08-04</td>\n",
       "      <td>1000</td>\n",
       "    </tr>\n",
       "    <tr>\n",
       "      <td>3</td>\n",
       "      <td>1000_3</td>\n",
       "      <td>2018-06-16</td>\n",
       "      <td>1000</td>\n",
       "    </tr>\n",
       "    <tr>\n",
       "      <td>4</td>\n",
       "      <td>1000_4</td>\n",
       "      <td>2018-12-05</td>\n",
       "      <td>1000</td>\n",
       "    </tr>\n",
       "  </tbody>\n",
       "</table>\n",
       "</div>"
      ],
      "text/plain": [
       "       id message_date  user_id\n",
       "0  1000_0   2018-06-27     1000\n",
       "1  1000_1   2018-10-08     1000\n",
       "2  1000_2   2018-08-04     1000\n",
       "3  1000_3   2018-06-16     1000\n",
       "4  1000_4   2018-12-05     1000"
      ]
     },
     "metadata": {},
     "output_type": "display_data"
    },
    {
     "data": {
      "text/html": [
       "<div>\n",
       "<style scoped>\n",
       "    .dataframe tbody tr th:only-of-type {\n",
       "        vertical-align: middle;\n",
       "    }\n",
       "\n",
       "    .dataframe tbody tr th {\n",
       "        vertical-align: top;\n",
       "    }\n",
       "\n",
       "    .dataframe thead th {\n",
       "        text-align: right;\n",
       "    }\n",
       "</style>\n",
       "<table border=\"1\" class=\"dataframe\">\n",
       "  <thead>\n",
       "    <tr style=\"text-align: right;\">\n",
       "      <th></th>\n",
       "      <th>user_id</th>\n",
       "      <th>age</th>\n",
       "      <th>churn_date</th>\n",
       "      <th>city</th>\n",
       "      <th>first_name</th>\n",
       "      <th>last_name</th>\n",
       "      <th>reg_date</th>\n",
       "      <th>tariff</th>\n",
       "    </tr>\n",
       "  </thead>\n",
       "  <tbody>\n",
       "    <tr>\n",
       "      <td>0</td>\n",
       "      <td>1000</td>\n",
       "      <td>52</td>\n",
       "      <td>NaN</td>\n",
       "      <td>Краснодар</td>\n",
       "      <td>Рафаил</td>\n",
       "      <td>Верещагин</td>\n",
       "      <td>2018-05-25</td>\n",
       "      <td>ultra</td>\n",
       "    </tr>\n",
       "    <tr>\n",
       "      <td>1</td>\n",
       "      <td>1001</td>\n",
       "      <td>41</td>\n",
       "      <td>NaN</td>\n",
       "      <td>Москва</td>\n",
       "      <td>Иван</td>\n",
       "      <td>Ежов</td>\n",
       "      <td>2018-11-01</td>\n",
       "      <td>smart</td>\n",
       "    </tr>\n",
       "    <tr>\n",
       "      <td>2</td>\n",
       "      <td>1002</td>\n",
       "      <td>59</td>\n",
       "      <td>NaN</td>\n",
       "      <td>Стерлитамак</td>\n",
       "      <td>Евгений</td>\n",
       "      <td>Абрамович</td>\n",
       "      <td>2018-06-17</td>\n",
       "      <td>smart</td>\n",
       "    </tr>\n",
       "    <tr>\n",
       "      <td>3</td>\n",
       "      <td>1003</td>\n",
       "      <td>23</td>\n",
       "      <td>NaN</td>\n",
       "      <td>Москва</td>\n",
       "      <td>Белла</td>\n",
       "      <td>Белякова</td>\n",
       "      <td>2018-08-17</td>\n",
       "      <td>ultra</td>\n",
       "    </tr>\n",
       "    <tr>\n",
       "      <td>4</td>\n",
       "      <td>1004</td>\n",
       "      <td>68</td>\n",
       "      <td>NaN</td>\n",
       "      <td>Новокузнецк</td>\n",
       "      <td>Татьяна</td>\n",
       "      <td>Авдеенко</td>\n",
       "      <td>2018-05-14</td>\n",
       "      <td>ultra</td>\n",
       "    </tr>\n",
       "  </tbody>\n",
       "</table>\n",
       "</div>"
      ],
      "text/plain": [
       "   user_id  age churn_date         city first_name  last_name    reg_date  \\\n",
       "0     1000   52        NaN    Краснодар     Рафаил  Верещагин  2018-05-25   \n",
       "1     1001   41        NaN       Москва       Иван       Ежов  2018-11-01   \n",
       "2     1002   59        NaN  Стерлитамак    Евгений  Абрамович  2018-06-17   \n",
       "3     1003   23        NaN       Москва      Белла   Белякова  2018-08-17   \n",
       "4     1004   68        NaN  Новокузнецк    Татьяна   Авдеенко  2018-05-14   \n",
       "\n",
       "  tariff  \n",
       "0  ultra  \n",
       "1  smart  \n",
       "2  smart  \n",
       "3  ultra  \n",
       "4  ultra  "
      ]
     },
     "metadata": {},
     "output_type": "display_data"
    },
    {
     "data": {
      "text/html": [
       "<div>\n",
       "<style scoped>\n",
       "    .dataframe tbody tr th:only-of-type {\n",
       "        vertical-align: middle;\n",
       "    }\n",
       "\n",
       "    .dataframe tbody tr th {\n",
       "        vertical-align: top;\n",
       "    }\n",
       "\n",
       "    .dataframe thead th {\n",
       "        text-align: right;\n",
       "    }\n",
       "</style>\n",
       "<table border=\"1\" class=\"dataframe\">\n",
       "  <thead>\n",
       "    <tr style=\"text-align: right;\">\n",
       "      <th></th>\n",
       "      <th>messages_included</th>\n",
       "      <th>mb_per_month_included</th>\n",
       "      <th>minutes_included</th>\n",
       "      <th>rub_monthly_fee</th>\n",
       "      <th>rub_per_gb</th>\n",
       "      <th>rub_per_message</th>\n",
       "      <th>rub_per_minute</th>\n",
       "      <th>tariff_name</th>\n",
       "    </tr>\n",
       "  </thead>\n",
       "  <tbody>\n",
       "    <tr>\n",
       "      <td>0</td>\n",
       "      <td>50</td>\n",
       "      <td>15360</td>\n",
       "      <td>500</td>\n",
       "      <td>550</td>\n",
       "      <td>200</td>\n",
       "      <td>3</td>\n",
       "      <td>3</td>\n",
       "      <td>smart</td>\n",
       "    </tr>\n",
       "    <tr>\n",
       "      <td>1</td>\n",
       "      <td>1000</td>\n",
       "      <td>30720</td>\n",
       "      <td>3000</td>\n",
       "      <td>1950</td>\n",
       "      <td>150</td>\n",
       "      <td>1</td>\n",
       "      <td>1</td>\n",
       "      <td>ultra</td>\n",
       "    </tr>\n",
       "  </tbody>\n",
       "</table>\n",
       "</div>"
      ],
      "text/plain": [
       "   messages_included  mb_per_month_included  minutes_included  \\\n",
       "0                 50                  15360               500   \n",
       "1               1000                  30720              3000   \n",
       "\n",
       "   rub_monthly_fee  rub_per_gb  rub_per_message  rub_per_minute tariff_name  \n",
       "0              550         200                3               3       smart  \n",
       "1             1950         150                1               1       ultra  "
      ]
     },
     "metadata": {},
     "output_type": "display_data"
    }
   ],
   "source": [
    "for data in [calls, internet, messages, users, tariffs]: \n",
    "    display(data.head())"
   ]
  },
  {
   "cell_type": "markdown",
   "metadata": {},
   "source": [
    "Видим, что есть звонки, длительность которых равна 0. Проверим, много ли таких значений."
   ]
  },
  {
   "cell_type": "code",
   "execution_count": 5,
   "metadata": {},
   "outputs": [
    {
     "data": {
      "text/plain": [
       "0.0    39613\n",
       "Name: duration, dtype: int64"
      ]
     },
     "execution_count": 5,
     "metadata": {},
     "output_type": "execute_result"
    }
   ],
   "source": [
    "calls.loc[calls['duration'] == 0, 'duration'].value_counts()"
   ]
  },
  {
   "cell_type": "markdown",
   "metadata": {},
   "source": [
    "У нас есть нули в столбцах с использованными Гб и длительностью звонков. Есть ненужный unnamed столбец в таблице internet - удалим его. "
   ]
  },
  {
   "cell_type": "code",
   "execution_count": 6,
   "metadata": {},
   "outputs": [
    {
     "data": {
      "text/plain": [
       "id               object\n",
       "mb_used         float64\n",
       "session_date     object\n",
       "user_id           int64\n",
       "dtype: object"
      ]
     },
     "execution_count": 6,
     "metadata": {},
     "output_type": "execute_result"
    }
   ],
   "source": [
    "internet = internet.drop('Unnamed: 0', axis=1)\n",
    "internet.dtypes"
   ]
  },
  {
   "cell_type": "markdown",
   "metadata": {},
   "source": [
    "Добавим столбец с датами в таблицы с смс, звонками и треффиком."
   ]
  },
  {
   "cell_type": "code",
   "execution_count": 7,
   "metadata": {},
   "outputs": [],
   "source": [
    "calls['month'] = pd.DatetimeIndex(calls['call_date']).month\n",
    "internet['month'] = pd.DatetimeIndex(internet['session_date']).month\n",
    "messages['month'] = pd.DatetimeIndex(messages['message_date']).month"
   ]
  },
  {
   "cell_type": "markdown",
   "metadata": {},
   "source": [
    "Приведем тип данных в столбце `user_id` к типу int"
   ]
  },
  {
   "cell_type": "code",
   "execution_count": 8,
   "metadata": {},
   "outputs": [],
   "source": [
    "messages['user_id'] = messages['user_id'].astype('int')"
   ]
  },
  {
   "cell_type": "markdown",
   "metadata": {},
   "source": [
    "Отразим информацию о тарифах в бинарном виде."
   ]
  },
  {
   "cell_type": "code",
   "execution_count": 9,
   "metadata": {},
   "outputs": [
    {
     "data": {
      "text/plain": [
       "0    351\n",
       "1    149\n",
       "Name: tariff_id, dtype: int64"
      ]
     },
     "execution_count": 9,
     "metadata": {},
     "output_type": "execute_result"
    }
   ],
   "source": [
    "users['tariff_id'] = users['tariff'].apply(lambda x: 1 if x == 'ultra' else 0)\n",
    "users['tariff_id'].value_counts()"
   ]
  },
  {
   "cell_type": "markdown",
   "metadata": {},
   "source": [
    "Округлим все значения в большую сторону (т.к. тариф считается по минутам и по мегабайтам), а нулевые значения заменим на 1."
   ]
  },
  {
   "cell_type": "code",
   "execution_count": 10,
   "metadata": {},
   "outputs": [],
   "source": [
    "calls['duration'] = calls['duration'].apply(np.ceil).replace(0, 1)\n",
    "internet['mb_used'] = internet['mb_used'].apply(np.ceil).replace(0, 1)"
   ]
  },
  {
   "cell_type": "markdown",
   "metadata": {},
   "source": [
    "Интернет приведем в Гб для удобства дальнейшей обработки."
   ]
  },
  {
   "cell_type": "code",
   "execution_count": 11,
   "metadata": {},
   "outputs": [],
   "source": [
    "internet['gb_used'] = internet['mb_used'] / 1024"
   ]
  },
  {
   "cell_type": "markdown",
   "metadata": {},
   "source": [
    "**Посчитаем для каждого пользователя:**\n",
    "\n",
    "- количество сделанных звонков и израсходованных минут разговора по месяцам;\n",
    "- количество отправленных сообщений по месяцам;\n",
    "- объем израсходованного интернет-трафика по месяцам;\n",
    "- помесячную выручку с каждого пользователя (вычтите бесплатный лимит из суммарного количества звонков, сообщений и интернет-трафика; остаток умножьте на значение из тарифного плана; прибавьте абонентскую плату, соответствующую тарифному плану)."
   ]
  },
  {
   "cell_type": "markdown",
   "metadata": {},
   "source": [
    "Создадим три сводные таблицы (по смс, траффику, минутами) и объединим их в одну."
   ]
  },
  {
   "cell_type": "code",
   "execution_count": 12,
   "metadata": {},
   "outputs": [
    {
     "data": {
      "text/html": [
       "<div>\n",
       "<style scoped>\n",
       "    .dataframe tbody tr th:only-of-type {\n",
       "        vertical-align: middle;\n",
       "    }\n",
       "\n",
       "    .dataframe tbody tr th {\n",
       "        vertical-align: top;\n",
       "    }\n",
       "\n",
       "    .dataframe thead th {\n",
       "        text-align: right;\n",
       "    }\n",
       "</style>\n",
       "<table border=\"1\" class=\"dataframe\">\n",
       "  <thead>\n",
       "    <tr style=\"text-align: right;\">\n",
       "      <th></th>\n",
       "      <th></th>\n",
       "      <th>messages</th>\n",
       "    </tr>\n",
       "    <tr>\n",
       "      <th>user_id</th>\n",
       "      <th>month</th>\n",
       "      <th></th>\n",
       "    </tr>\n",
       "  </thead>\n",
       "  <tbody>\n",
       "    <tr>\n",
       "      <td rowspan=\"5\" valign=\"top\">1000</td>\n",
       "      <td>5</td>\n",
       "      <td>22</td>\n",
       "    </tr>\n",
       "    <tr>\n",
       "      <td>6</td>\n",
       "      <td>60</td>\n",
       "    </tr>\n",
       "    <tr>\n",
       "      <td>7</td>\n",
       "      <td>75</td>\n",
       "    </tr>\n",
       "    <tr>\n",
       "      <td>8</td>\n",
       "      <td>81</td>\n",
       "    </tr>\n",
       "    <tr>\n",
       "      <td>9</td>\n",
       "      <td>57</td>\n",
       "    </tr>\n",
       "  </tbody>\n",
       "</table>\n",
       "</div>"
      ],
      "text/plain": [
       "               messages\n",
       "user_id month          \n",
       "1000    5            22\n",
       "        6            60\n",
       "        7            75\n",
       "        8            81\n",
       "        9            57"
      ]
     },
     "execution_count": 12,
     "metadata": {},
     "output_type": "execute_result"
    }
   ],
   "source": [
    "users_messages = messages.merge(users, on='user_id', how='inner')\n",
    "messages_grouped = users_messages.pivot_table(values='id', \n",
    "                       index=['user_id', 'month',], \n",
    "                       aggfunc={'user_id': 'count'})\n",
    "messages_grouped.columns = ['messages']\n",
    "messages_grouped.head()"
   ]
  },
  {
   "cell_type": "code",
   "execution_count": 13,
   "metadata": {},
   "outputs": [
    {
     "data": {
      "text/html": [
       "<div>\n",
       "<style scoped>\n",
       "    .dataframe tbody tr th:only-of-type {\n",
       "        vertical-align: middle;\n",
       "    }\n",
       "\n",
       "    .dataframe tbody tr th {\n",
       "        vertical-align: top;\n",
       "    }\n",
       "\n",
       "    .dataframe thead th {\n",
       "        text-align: right;\n",
       "    }\n",
       "</style>\n",
       "<table border=\"1\" class=\"dataframe\">\n",
       "  <thead>\n",
       "    <tr style=\"text-align: right;\">\n",
       "      <th></th>\n",
       "      <th></th>\n",
       "      <th>duration</th>\n",
       "      <th>calls</th>\n",
       "    </tr>\n",
       "    <tr>\n",
       "      <th>user_id</th>\n",
       "      <th>month</th>\n",
       "      <th></th>\n",
       "      <th></th>\n",
       "    </tr>\n",
       "  </thead>\n",
       "  <tbody>\n",
       "    <tr>\n",
       "      <td rowspan=\"5\" valign=\"top\">1000</td>\n",
       "      <td>5</td>\n",
       "      <td>164.0</td>\n",
       "      <td>22</td>\n",
       "    </tr>\n",
       "    <tr>\n",
       "      <td>6</td>\n",
       "      <td>187.0</td>\n",
       "      <td>43</td>\n",
       "    </tr>\n",
       "    <tr>\n",
       "      <td>7</td>\n",
       "      <td>346.0</td>\n",
       "      <td>47</td>\n",
       "    </tr>\n",
       "    <tr>\n",
       "      <td>8</td>\n",
       "      <td>418.0</td>\n",
       "      <td>52</td>\n",
       "    </tr>\n",
       "    <tr>\n",
       "      <td>9</td>\n",
       "      <td>478.0</td>\n",
       "      <td>58</td>\n",
       "    </tr>\n",
       "  </tbody>\n",
       "</table>\n",
       "</div>"
      ],
      "text/plain": [
       "               duration  calls\n",
       "user_id month                 \n",
       "1000    5         164.0     22\n",
       "        6         187.0     43\n",
       "        7         346.0     47\n",
       "        8         418.0     52\n",
       "        9         478.0     58"
      ]
     },
     "execution_count": 13,
     "metadata": {},
     "output_type": "execute_result"
    }
   ],
   "source": [
    "users_calls = calls.merge(users, on='user_id', how='inner')\n",
    "calls_grouped = users_calls.pivot_table(values=['duration'], \n",
    "                       index=['user_id', 'month'], \n",
    "                       aggfunc={'user_id': 'count', 'duration': 'sum'})\n",
    "calls_grouped.columns = ['duration', 'calls']\n",
    "calls_grouped.head()"
   ]
  },
  {
   "cell_type": "code",
   "execution_count": 14,
   "metadata": {},
   "outputs": [
    {
     "data": {
      "text/html": [
       "<div>\n",
       "<style scoped>\n",
       "    .dataframe tbody tr th:only-of-type {\n",
       "        vertical-align: middle;\n",
       "    }\n",
       "\n",
       "    .dataframe tbody tr th {\n",
       "        vertical-align: top;\n",
       "    }\n",
       "\n",
       "    .dataframe thead th {\n",
       "        text-align: right;\n",
       "    }\n",
       "</style>\n",
       "<table border=\"1\" class=\"dataframe\">\n",
       "  <thead>\n",
       "    <tr style=\"text-align: right;\">\n",
       "      <th></th>\n",
       "      <th></th>\n",
       "      <th>mb_used</th>\n",
       "    </tr>\n",
       "    <tr>\n",
       "      <th>user_id</th>\n",
       "      <th>month</th>\n",
       "      <th></th>\n",
       "    </tr>\n",
       "  </thead>\n",
       "  <tbody>\n",
       "    <tr>\n",
       "      <td rowspan=\"5\" valign=\"top\">1000</td>\n",
       "      <td>5</td>\n",
       "      <td>2257.0</td>\n",
       "    </tr>\n",
       "    <tr>\n",
       "      <td>6</td>\n",
       "      <td>23262.0</td>\n",
       "    </tr>\n",
       "    <tr>\n",
       "      <td>7</td>\n",
       "      <td>14017.0</td>\n",
       "    </tr>\n",
       "    <tr>\n",
       "      <td>8</td>\n",
       "      <td>14072.0</td>\n",
       "    </tr>\n",
       "    <tr>\n",
       "      <td>9</td>\n",
       "      <td>14583.0</td>\n",
       "    </tr>\n",
       "  </tbody>\n",
       "</table>\n",
       "</div>"
      ],
      "text/plain": [
       "               mb_used\n",
       "user_id month         \n",
       "1000    5       2257.0\n",
       "        6      23262.0\n",
       "        7      14017.0\n",
       "        8      14072.0\n",
       "        9      14583.0"
      ]
     },
     "execution_count": 14,
     "metadata": {},
     "output_type": "execute_result"
    }
   ],
   "source": [
    "users_internet = internet.merge(users, on='user_id', how='inner')\n",
    "internet_grouped = users_internet.pivot_table(values='mb_used', \n",
    "                       index=['user_id', 'month'], \n",
    "                       aggfunc={'mb_used': 'sum'})\n",
    "internet_grouped.columns = ['mb_used']\n",
    "internet_grouped.head()"
   ]
  },
  {
   "cell_type": "code",
   "execution_count": 15,
   "metadata": {},
   "outputs": [
    {
     "data": {
      "text/html": [
       "<div>\n",
       "<style scoped>\n",
       "    .dataframe tbody tr th:only-of-type {\n",
       "        vertical-align: middle;\n",
       "    }\n",
       "\n",
       "    .dataframe tbody tr th {\n",
       "        vertical-align: top;\n",
       "    }\n",
       "\n",
       "    .dataframe thead th {\n",
       "        text-align: right;\n",
       "    }\n",
       "</style>\n",
       "<table border=\"1\" class=\"dataframe\">\n",
       "  <thead>\n",
       "    <tr style=\"text-align: right;\">\n",
       "      <th></th>\n",
       "      <th>user_id</th>\n",
       "      <th>month</th>\n",
       "      <th>duration</th>\n",
       "      <th>calls</th>\n",
       "      <th>messages</th>\n",
       "      <th>mb_used</th>\n",
       "    </tr>\n",
       "  </thead>\n",
       "  <tbody>\n",
       "    <tr>\n",
       "      <td>0</td>\n",
       "      <td>1000</td>\n",
       "      <td>5</td>\n",
       "      <td>164.0</td>\n",
       "      <td>22.0</td>\n",
       "      <td>22.0</td>\n",
       "      <td>2257.0</td>\n",
       "    </tr>\n",
       "    <tr>\n",
       "      <td>1</td>\n",
       "      <td>1000</td>\n",
       "      <td>6</td>\n",
       "      <td>187.0</td>\n",
       "      <td>43.0</td>\n",
       "      <td>60.0</td>\n",
       "      <td>23262.0</td>\n",
       "    </tr>\n",
       "    <tr>\n",
       "      <td>2</td>\n",
       "      <td>1000</td>\n",
       "      <td>7</td>\n",
       "      <td>346.0</td>\n",
       "      <td>47.0</td>\n",
       "      <td>75.0</td>\n",
       "      <td>14017.0</td>\n",
       "    </tr>\n",
       "    <tr>\n",
       "      <td>3</td>\n",
       "      <td>1000</td>\n",
       "      <td>8</td>\n",
       "      <td>418.0</td>\n",
       "      <td>52.0</td>\n",
       "      <td>81.0</td>\n",
       "      <td>14072.0</td>\n",
       "    </tr>\n",
       "    <tr>\n",
       "      <td>4</td>\n",
       "      <td>1000</td>\n",
       "      <td>9</td>\n",
       "      <td>478.0</td>\n",
       "      <td>58.0</td>\n",
       "      <td>57.0</td>\n",
       "      <td>14583.0</td>\n",
       "    </tr>\n",
       "  </tbody>\n",
       "</table>\n",
       "</div>"
      ],
      "text/plain": [
       "   user_id  month  duration  calls  messages  mb_used\n",
       "0     1000      5     164.0   22.0      22.0   2257.0\n",
       "1     1000      6     187.0   43.0      60.0  23262.0\n",
       "2     1000      7     346.0   47.0      75.0  14017.0\n",
       "3     1000      8     418.0   52.0      81.0  14072.0\n",
       "4     1000      9     478.0   58.0      57.0  14583.0"
      ]
     },
     "execution_count": 15,
     "metadata": {},
     "output_type": "execute_result"
    }
   ],
   "source": [
    "all_services = calls_grouped.merge(messages_grouped, how='outer', on=['user_id', 'month'])\n",
    "all_services = all_services.merge(internet_grouped, how='outer', on=['user_id', 'month'])\n",
    "all_services.reset_index(level=[0,1], inplace=True)\n",
    "all_services.head()"
   ]
  },
  {
   "cell_type": "markdown",
   "metadata": {},
   "source": [
    "Добавили тариф"
   ]
  },
  {
   "cell_type": "code",
   "execution_count": 16,
   "metadata": {},
   "outputs": [
    {
     "data": {
      "text/html": [
       "<div>\n",
       "<style scoped>\n",
       "    .dataframe tbody tr th:only-of-type {\n",
       "        vertical-align: middle;\n",
       "    }\n",
       "\n",
       "    .dataframe tbody tr th {\n",
       "        vertical-align: top;\n",
       "    }\n",
       "\n",
       "    .dataframe thead th {\n",
       "        text-align: right;\n",
       "    }\n",
       "</style>\n",
       "<table border=\"1\" class=\"dataframe\">\n",
       "  <thead>\n",
       "    <tr style=\"text-align: right;\">\n",
       "      <th></th>\n",
       "      <th>user_id</th>\n",
       "      <th>month</th>\n",
       "      <th>duration</th>\n",
       "      <th>calls</th>\n",
       "      <th>messages</th>\n",
       "      <th>mb_used</th>\n",
       "      <th>tariff_id</th>\n",
       "    </tr>\n",
       "  </thead>\n",
       "  <tbody>\n",
       "    <tr>\n",
       "      <td>0</td>\n",
       "      <td>1000</td>\n",
       "      <td>5</td>\n",
       "      <td>164.0</td>\n",
       "      <td>22.0</td>\n",
       "      <td>22.0</td>\n",
       "      <td>2257.0</td>\n",
       "      <td>1</td>\n",
       "    </tr>\n",
       "    <tr>\n",
       "      <td>1</td>\n",
       "      <td>1000</td>\n",
       "      <td>6</td>\n",
       "      <td>187.0</td>\n",
       "      <td>43.0</td>\n",
       "      <td>60.0</td>\n",
       "      <td>23262.0</td>\n",
       "      <td>1</td>\n",
       "    </tr>\n",
       "    <tr>\n",
       "      <td>2</td>\n",
       "      <td>1000</td>\n",
       "      <td>7</td>\n",
       "      <td>346.0</td>\n",
       "      <td>47.0</td>\n",
       "      <td>75.0</td>\n",
       "      <td>14017.0</td>\n",
       "      <td>1</td>\n",
       "    </tr>\n",
       "    <tr>\n",
       "      <td>3</td>\n",
       "      <td>1000</td>\n",
       "      <td>8</td>\n",
       "      <td>418.0</td>\n",
       "      <td>52.0</td>\n",
       "      <td>81.0</td>\n",
       "      <td>14072.0</td>\n",
       "      <td>1</td>\n",
       "    </tr>\n",
       "    <tr>\n",
       "      <td>4</td>\n",
       "      <td>1000</td>\n",
       "      <td>9</td>\n",
       "      <td>478.0</td>\n",
       "      <td>58.0</td>\n",
       "      <td>57.0</td>\n",
       "      <td>14583.0</td>\n",
       "      <td>1</td>\n",
       "    </tr>\n",
       "    <tr>\n",
       "      <td>...</td>\n",
       "      <td>...</td>\n",
       "      <td>...</td>\n",
       "      <td>...</td>\n",
       "      <td>...</td>\n",
       "      <td>...</td>\n",
       "      <td>...</td>\n",
       "      <td>...</td>\n",
       "    </tr>\n",
       "    <tr>\n",
       "      <td>3209</td>\n",
       "      <td>1489</td>\n",
       "      <td>9</td>\n",
       "      <td>NaN</td>\n",
       "      <td>NaN</td>\n",
       "      <td>32.0</td>\n",
       "      <td>17246.0</td>\n",
       "      <td>0</td>\n",
       "    </tr>\n",
       "    <tr>\n",
       "      <td>3210</td>\n",
       "      <td>1489</td>\n",
       "      <td>10</td>\n",
       "      <td>NaN</td>\n",
       "      <td>NaN</td>\n",
       "      <td>21.0</td>\n",
       "      <td>19599.0</td>\n",
       "      <td>0</td>\n",
       "    </tr>\n",
       "    <tr>\n",
       "      <td>3211</td>\n",
       "      <td>1489</td>\n",
       "      <td>11</td>\n",
       "      <td>NaN</td>\n",
       "      <td>NaN</td>\n",
       "      <td>20.0</td>\n",
       "      <td>17526.0</td>\n",
       "      <td>0</td>\n",
       "    </tr>\n",
       "    <tr>\n",
       "      <td>3212</td>\n",
       "      <td>1489</td>\n",
       "      <td>12</td>\n",
       "      <td>NaN</td>\n",
       "      <td>NaN</td>\n",
       "      <td>35.0</td>\n",
       "      <td>17349.0</td>\n",
       "      <td>0</td>\n",
       "    </tr>\n",
       "    <tr>\n",
       "      <td>3213</td>\n",
       "      <td>1476</td>\n",
       "      <td>4</td>\n",
       "      <td>NaN</td>\n",
       "      <td>NaN</td>\n",
       "      <td>NaN</td>\n",
       "      <td>531.0</td>\n",
       "      <td>1</td>\n",
       "    </tr>\n",
       "  </tbody>\n",
       "</table>\n",
       "<p>3214 rows × 7 columns</p>\n",
       "</div>"
      ],
      "text/plain": [
       "      user_id  month  duration  calls  messages  mb_used  tariff_id\n",
       "0        1000      5     164.0   22.0      22.0   2257.0          1\n",
       "1        1000      6     187.0   43.0      60.0  23262.0          1\n",
       "2        1000      7     346.0   47.0      75.0  14017.0          1\n",
       "3        1000      8     418.0   52.0      81.0  14072.0          1\n",
       "4        1000      9     478.0   58.0      57.0  14583.0          1\n",
       "...       ...    ...       ...    ...       ...      ...        ...\n",
       "3209     1489      9       NaN    NaN      32.0  17246.0          0\n",
       "3210     1489     10       NaN    NaN      21.0  19599.0          0\n",
       "3211     1489     11       NaN    NaN      20.0  17526.0          0\n",
       "3212     1489     12       NaN    NaN      35.0  17349.0          0\n",
       "3213     1476      4       NaN    NaN       NaN    531.0          1\n",
       "\n",
       "[3214 rows x 7 columns]"
      ]
     },
     "execution_count": 16,
     "metadata": {},
     "output_type": "execute_result"
    }
   ],
   "source": [
    "all_services = all_services.merge(users[['user_id', 'tariff_id']], on='user_id', how='left')\n",
    "all_services"
   ]
  },
  {
   "cell_type": "code",
   "execution_count": 17,
   "metadata": {},
   "outputs": [],
   "source": [
    "all_services.loc[all_services['duration'].isna(), 'duration'] = 0\n",
    "all_services.loc[all_services['messages'].isna(), 'messages'] = 0\n",
    "all_services.loc[all_services['mb_used'].isna(), 'mb_used'] = 0"
   ]
  },
  {
   "cell_type": "markdown",
   "metadata": {},
   "source": [
    "После формирования датафрейма по месяцам появились пропуски. Некоторые пользователи в некоторые месяцы пользовались не всеми услугами. Например, кто-то только мобильным интернетом. Заполним пропуски нулями и позже посмотрим на распределение."
   ]
  },
  {
   "cell_type": "code",
   "execution_count": 18,
   "metadata": {},
   "outputs": [],
   "source": [
    "na_= ['calls', 'duration', 'messages', 'mb_used']\n",
    "\n",
    "for _ in na_:\n",
    "    all_services[_] = all_services[_].fillna(0).astype('int64')"
   ]
  },
  {
   "cell_type": "code",
   "execution_count": 19,
   "metadata": {},
   "outputs": [
    {
     "name": "stdout",
     "output_type": "stream",
     "text": [
      "<class 'pandas.core.frame.DataFrame'>\n",
      "Int64Index: 3214 entries, 0 to 3213\n",
      "Data columns (total 7 columns):\n",
      "user_id      3214 non-null int64\n",
      "month        3214 non-null int64\n",
      "duration     3214 non-null int64\n",
      "calls        3214 non-null int64\n",
      "messages     3214 non-null int64\n",
      "mb_used      3214 non-null int64\n",
      "tariff_id    3214 non-null int64\n",
      "dtypes: int64(7)\n",
      "memory usage: 200.9 KB\n"
     ]
    }
   ],
   "source": [
    "all_services.info()"
   ]
  },
  {
   "cell_type": "markdown",
   "metadata": {},
   "source": [
    "Создадим функцию для расчёта выручки"
   ]
  },
  {
   "cell_type": "code",
   "execution_count": 20,
   "metadata": {},
   "outputs": [
    {
     "data": {
      "text/html": [
       "<div>\n",
       "<style scoped>\n",
       "    .dataframe tbody tr th:only-of-type {\n",
       "        vertical-align: middle;\n",
       "    }\n",
       "\n",
       "    .dataframe tbody tr th {\n",
       "        vertical-align: top;\n",
       "    }\n",
       "\n",
       "    .dataframe thead th {\n",
       "        text-align: right;\n",
       "    }\n",
       "</style>\n",
       "<table border=\"1\" class=\"dataframe\">\n",
       "  <thead>\n",
       "    <tr style=\"text-align: right;\">\n",
       "      <th></th>\n",
       "      <th>user_id</th>\n",
       "      <th>month</th>\n",
       "      <th>duration</th>\n",
       "      <th>calls</th>\n",
       "      <th>messages</th>\n",
       "      <th>mb_used</th>\n",
       "      <th>tariff_id</th>\n",
       "      <th>revenue</th>\n",
       "    </tr>\n",
       "  </thead>\n",
       "  <tbody>\n",
       "    <tr>\n",
       "      <td>0</td>\n",
       "      <td>1000</td>\n",
       "      <td>5</td>\n",
       "      <td>164</td>\n",
       "      <td>22</td>\n",
       "      <td>22</td>\n",
       "      <td>2257</td>\n",
       "      <td>1</td>\n",
       "      <td>1950</td>\n",
       "    </tr>\n",
       "    <tr>\n",
       "      <td>1</td>\n",
       "      <td>1000</td>\n",
       "      <td>6</td>\n",
       "      <td>187</td>\n",
       "      <td>43</td>\n",
       "      <td>60</td>\n",
       "      <td>23262</td>\n",
       "      <td>1</td>\n",
       "      <td>1950</td>\n",
       "    </tr>\n",
       "    <tr>\n",
       "      <td>2</td>\n",
       "      <td>1000</td>\n",
       "      <td>7</td>\n",
       "      <td>346</td>\n",
       "      <td>47</td>\n",
       "      <td>75</td>\n",
       "      <td>14017</td>\n",
       "      <td>1</td>\n",
       "      <td>1950</td>\n",
       "    </tr>\n",
       "    <tr>\n",
       "      <td>3</td>\n",
       "      <td>1000</td>\n",
       "      <td>8</td>\n",
       "      <td>418</td>\n",
       "      <td>52</td>\n",
       "      <td>81</td>\n",
       "      <td>14072</td>\n",
       "      <td>1</td>\n",
       "      <td>1950</td>\n",
       "    </tr>\n",
       "    <tr>\n",
       "      <td>4</td>\n",
       "      <td>1000</td>\n",
       "      <td>9</td>\n",
       "      <td>478</td>\n",
       "      <td>58</td>\n",
       "      <td>57</td>\n",
       "      <td>14583</td>\n",
       "      <td>1</td>\n",
       "      <td>1950</td>\n",
       "    </tr>\n",
       "    <tr>\n",
       "      <td>5</td>\n",
       "      <td>1000</td>\n",
       "      <td>10</td>\n",
       "      <td>363</td>\n",
       "      <td>57</td>\n",
       "      <td>73</td>\n",
       "      <td>14717</td>\n",
       "      <td>1</td>\n",
       "      <td>1950</td>\n",
       "    </tr>\n",
       "    <tr>\n",
       "      <td>6</td>\n",
       "      <td>1000</td>\n",
       "      <td>11</td>\n",
       "      <td>344</td>\n",
       "      <td>43</td>\n",
       "      <td>58</td>\n",
       "      <td>14769</td>\n",
       "      <td>1</td>\n",
       "      <td>1950</td>\n",
       "    </tr>\n",
       "    <tr>\n",
       "      <td>7</td>\n",
       "      <td>1000</td>\n",
       "      <td>12</td>\n",
       "      <td>341</td>\n",
       "      <td>46</td>\n",
       "      <td>70</td>\n",
       "      <td>9829</td>\n",
       "      <td>1</td>\n",
       "      <td>1950</td>\n",
       "    </tr>\n",
       "    <tr>\n",
       "      <td>8</td>\n",
       "      <td>1001</td>\n",
       "      <td>11</td>\n",
       "      <td>444</td>\n",
       "      <td>59</td>\n",
       "      <td>0</td>\n",
       "      <td>18460</td>\n",
       "      <td>0</td>\n",
       "      <td>1350</td>\n",
       "    </tr>\n",
       "    <tr>\n",
       "      <td>9</td>\n",
       "      <td>1001</td>\n",
       "      <td>12</td>\n",
       "      <td>430</td>\n",
       "      <td>63</td>\n",
       "      <td>0</td>\n",
       "      <td>14059</td>\n",
       "      <td>0</td>\n",
       "      <td>550</td>\n",
       "    </tr>\n",
       "  </tbody>\n",
       "</table>\n",
       "</div>"
      ],
      "text/plain": [
       "   user_id  month  duration  calls  messages  mb_used  tariff_id  revenue\n",
       "0     1000      5       164     22        22     2257          1     1950\n",
       "1     1000      6       187     43        60    23262          1     1950\n",
       "2     1000      7       346     47        75    14017          1     1950\n",
       "3     1000      8       418     52        81    14072          1     1950\n",
       "4     1000      9       478     58        57    14583          1     1950\n",
       "5     1000     10       363     57        73    14717          1     1950\n",
       "6     1000     11       344     43        58    14769          1     1950\n",
       "7     1000     12       341     46        70     9829          1     1950\n",
       "8     1001     11       444     59         0    18460          0     1350\n",
       "9     1001     12       430     63         0    14059          0      550"
      ]
     },
     "execution_count": 20,
     "metadata": {},
     "output_type": "execute_result"
    }
   ],
   "source": [
    "def revenue(row):\n",
    "    duration = row['duration']\n",
    "    calls = row['calls']\n",
    "    msg = row['messages']\n",
    "    mb = row['mb_used']\n",
    "    tariff = row['tariff_id']\n",
    "    surplus = []\n",
    "    \n",
    "    if tariff == 0:\n",
    "        surplus.append(duration - tariffs.loc[0, 'minutes_included'])\n",
    "        surplus.append(mb - tariffs.loc[0, 'mb_per_month_included'])\n",
    "        surplus.append(msg - tariffs.loc[0, 'messages_included'])\n",
    "        x = [0 if x < 0 else x for x in surplus]\n",
    "        \n",
    "        return x[2] * tariffs.loc[0, 'rub_per_message'] + math.ceil(x[1] / 1024) * tariffs.loc[0, 'rub_per_gb'] + x[0] * tariffs.loc[0, 'rub_per_minute'] + tariffs.loc[0, 'rub_monthly_fee'] \n",
    "        \n",
    "    else:\n",
    "        surplus.append(duration - tariffs.loc[1, 'minutes_included'])\n",
    "        surplus.append(mb - tariffs.loc[1, 'mb_per_month_included'])\n",
    "        surplus.append(msg - tariffs.loc[1, 'messages_included'])\n",
    "        x = [0 if x < 0 else x for x in surplus]\n",
    "        return x[2] * tariffs.loc[1, 'rub_per_message'] +  math.ceil(x[1] / 1024) * tariffs.loc[1, 'rub_per_gb'] + x[0] * tariffs.loc[1, 'rub_per_minute'] + tariffs.loc[1, 'rub_monthly_fee']\n",
    "\n",
    "    \n",
    "all_services['revenue'] = all_services.apply(revenue, axis=1)\n",
    "all_services.head(10)      "
   ]
  },
  {
   "cell_type": "markdown",
   "metadata": {},
   "source": [
    "# 3. Проанализируем данные"
   ]
  },
  {
   "cell_type": "markdown",
   "metadata": {},
   "source": [
    "Опишем поведение клиентов оператора, исходя из выборки и посчитаем:\n",
    "\n",
    "- Сколько минут разговора, \n",
    "- сколько сообщений,\n",
    "- какой объём интернет-трафика \n",
    "\n",
    "требуется пользователям каждого тарифа в месяц."
   ]
  },
  {
   "cell_type": "code",
   "execution_count": 21,
   "metadata": {},
   "outputs": [],
   "source": [
    "values = ['duration', 'messages', 'mb_used', 'revenue']\n",
    "\n",
    "month_data = all_services.pivot_table(\n",
    "    index=['tariff_id', 'month'],\n",
    "    values=values\n",
    ")"
   ]
  },
  {
   "cell_type": "code",
   "execution_count": 22,
   "metadata": {},
   "outputs": [
    {
     "data": {
      "text/html": [
       "<div>\n",
       "<style scoped>\n",
       "    .dataframe tbody tr th:only-of-type {\n",
       "        vertical-align: middle;\n",
       "    }\n",
       "\n",
       "    .dataframe tbody tr th {\n",
       "        vertical-align: top;\n",
       "    }\n",
       "\n",
       "    .dataframe thead th {\n",
       "        text-align: right;\n",
       "    }\n",
       "</style>\n",
       "<table border=\"1\" class=\"dataframe\">\n",
       "  <thead>\n",
       "    <tr style=\"text-align: right;\">\n",
       "      <th></th>\n",
       "      <th>duration</th>\n",
       "      <th>mb_used</th>\n",
       "      <th>messages</th>\n",
       "      <th>revenue</th>\n",
       "    </tr>\n",
       "    <tr>\n",
       "      <th>month</th>\n",
       "      <th></th>\n",
       "      <th></th>\n",
       "      <th></th>\n",
       "      <th></th>\n",
       "    </tr>\n",
       "  </thead>\n",
       "  <tbody>\n",
       "    <tr>\n",
       "      <td>1</td>\n",
       "      <td>209.647059</td>\n",
       "      <td>8528.588235</td>\n",
       "      <td>18.235294</td>\n",
       "      <td>723.352941</td>\n",
       "    </tr>\n",
       "    <tr>\n",
       "      <td>2</td>\n",
       "      <td>306.310345</td>\n",
       "      <td>11617.344828</td>\n",
       "      <td>24.086207</td>\n",
       "      <td>835.051724</td>\n",
       "    </tr>\n",
       "    <tr>\n",
       "      <td>3</td>\n",
       "      <td>400.532468</td>\n",
       "      <td>15131.207792</td>\n",
       "      <td>31.857143</td>\n",
       "      <td>1178.571429</td>\n",
       "    </tr>\n",
       "    <tr>\n",
       "      <td>4</td>\n",
       "      <td>377.000000</td>\n",
       "      <td>13486.080357</td>\n",
       "      <td>30.741071</td>\n",
       "      <td>974.875000</td>\n",
       "    </tr>\n",
       "    <tr>\n",
       "      <td>5</td>\n",
       "      <td>398.404255</td>\n",
       "      <td>15832.751773</td>\n",
       "      <td>33.773050</td>\n",
       "      <td>1219.106383</td>\n",
       "    </tr>\n",
       "    <tr>\n",
       "      <td>6</td>\n",
       "      <td>406.701220</td>\n",
       "      <td>15822.445122</td>\n",
       "      <td>33.402439</td>\n",
       "      <td>1224.146341</td>\n",
       "    </tr>\n",
       "    <tr>\n",
       "      <td>7</td>\n",
       "      <td>419.288557</td>\n",
       "      <td>15771.398010</td>\n",
       "      <td>33.751244</td>\n",
       "      <td>1246.472637</td>\n",
       "    </tr>\n",
       "    <tr>\n",
       "      <td>8</td>\n",
       "      <td>433.191489</td>\n",
       "      <td>16640.212766</td>\n",
       "      <td>33.638298</td>\n",
       "      <td>1346.974468</td>\n",
       "    </tr>\n",
       "    <tr>\n",
       "      <td>9</td>\n",
       "      <td>440.080769</td>\n",
       "      <td>16332.615385</td>\n",
       "      <td>33.638462</td>\n",
       "      <td>1274.500000</td>\n",
       "    </tr>\n",
       "    <tr>\n",
       "      <td>10</td>\n",
       "      <td>438.295918</td>\n",
       "      <td>16786.853741</td>\n",
       "      <td>33.765306</td>\n",
       "      <td>1388.833333</td>\n",
       "    </tr>\n",
       "    <tr>\n",
       "      <td>11</td>\n",
       "      <td>447.620253</td>\n",
       "      <td>16925.962025</td>\n",
       "      <td>34.075949</td>\n",
       "      <td>1366.996835</td>\n",
       "    </tr>\n",
       "    <tr>\n",
       "      <td>12</td>\n",
       "      <td>491.418398</td>\n",
       "      <td>18145.824926</td>\n",
       "      <td>35.994065</td>\n",
       "      <td>1606.038576</td>\n",
       "    </tr>\n",
       "  </tbody>\n",
       "</table>\n",
       "</div>"
      ],
      "text/plain": [
       "         duration       mb_used   messages      revenue\n",
       "month                                                  \n",
       "1      209.647059   8528.588235  18.235294   723.352941\n",
       "2      306.310345  11617.344828  24.086207   835.051724\n",
       "3      400.532468  15131.207792  31.857143  1178.571429\n",
       "4      377.000000  13486.080357  30.741071   974.875000\n",
       "5      398.404255  15832.751773  33.773050  1219.106383\n",
       "6      406.701220  15822.445122  33.402439  1224.146341\n",
       "7      419.288557  15771.398010  33.751244  1246.472637\n",
       "8      433.191489  16640.212766  33.638298  1346.974468\n",
       "9      440.080769  16332.615385  33.638462  1274.500000\n",
       "10     438.295918  16786.853741  33.765306  1388.833333\n",
       "11     447.620253  16925.962025  34.075949  1366.996835\n",
       "12     491.418398  18145.824926  35.994065  1606.038576"
      ]
     },
     "execution_count": 22,
     "metadata": {},
     "output_type": "execute_result"
    }
   ],
   "source": [
    "smart_per_month = month_data.loc[0]\n",
    "smart_per_month"
   ]
  },
  {
   "cell_type": "code",
   "execution_count": 23,
   "metadata": {},
   "outputs": [
    {
     "data": {
      "text/html": [
       "<div>\n",
       "<style scoped>\n",
       "    .dataframe tbody tr th:only-of-type {\n",
       "        vertical-align: middle;\n",
       "    }\n",
       "\n",
       "    .dataframe tbody tr th {\n",
       "        vertical-align: top;\n",
       "    }\n",
       "\n",
       "    .dataframe thead th {\n",
       "        text-align: right;\n",
       "    }\n",
       "</style>\n",
       "<table border=\"1\" class=\"dataframe\">\n",
       "  <thead>\n",
       "    <tr style=\"text-align: right;\">\n",
       "      <th></th>\n",
       "      <th>duration</th>\n",
       "      <th>mb_used</th>\n",
       "      <th>messages</th>\n",
       "      <th>revenue</th>\n",
       "    </tr>\n",
       "    <tr>\n",
       "      <th>month</th>\n",
       "      <th></th>\n",
       "      <th></th>\n",
       "      <th></th>\n",
       "      <th></th>\n",
       "    </tr>\n",
       "  </thead>\n",
       "  <tbody>\n",
       "    <tr>\n",
       "      <td>1</td>\n",
       "      <td>440.888889</td>\n",
       "      <td>13154.666667</td>\n",
       "      <td>33.777778</td>\n",
       "      <td>1950.000000</td>\n",
       "    </tr>\n",
       "    <tr>\n",
       "      <td>2</td>\n",
       "      <td>304.666667</td>\n",
       "      <td>11788.333333</td>\n",
       "      <td>21.958333</td>\n",
       "      <td>1975.000000</td>\n",
       "    </tr>\n",
       "    <tr>\n",
       "      <td>3</td>\n",
       "      <td>503.081081</td>\n",
       "      <td>17553.513514</td>\n",
       "      <td>32.297297</td>\n",
       "      <td>2014.864865</td>\n",
       "    </tr>\n",
       "    <tr>\n",
       "      <td>4</td>\n",
       "      <td>470.072727</td>\n",
       "      <td>16845.254545</td>\n",
       "      <td>31.563636</td>\n",
       "      <td>2001.818182</td>\n",
       "    </tr>\n",
       "    <tr>\n",
       "      <td>5</td>\n",
       "      <td>524.865672</td>\n",
       "      <td>19383.194030</td>\n",
       "      <td>37.850746</td>\n",
       "      <td>2061.940299</td>\n",
       "    </tr>\n",
       "    <tr>\n",
       "      <td>6</td>\n",
       "      <td>492.428571</td>\n",
       "      <td>18943.928571</td>\n",
       "      <td>41.726190</td>\n",
       "      <td>2041.071429</td>\n",
       "    </tr>\n",
       "    <tr>\n",
       "      <td>7</td>\n",
       "      <td>560.296703</td>\n",
       "      <td>20516.571429</td>\n",
       "      <td>49.846154</td>\n",
       "      <td>2121.428571</td>\n",
       "    </tr>\n",
       "    <tr>\n",
       "      <td>8</td>\n",
       "      <td>524.570093</td>\n",
       "      <td>19595.878505</td>\n",
       "      <td>48.439252</td>\n",
       "      <td>2083.177570</td>\n",
       "    </tr>\n",
       "    <tr>\n",
       "      <td>9</td>\n",
       "      <td>553.643478</td>\n",
       "      <td>19224.043478</td>\n",
       "      <td>52.286957</td>\n",
       "      <td>2024.347826</td>\n",
       "    </tr>\n",
       "    <tr>\n",
       "      <td>10</td>\n",
       "      <td>572.829268</td>\n",
       "      <td>20065.536585</td>\n",
       "      <td>58.430894</td>\n",
       "      <td>2067.073171</td>\n",
       "    </tr>\n",
       "    <tr>\n",
       "      <td>11</td>\n",
       "      <td>555.805970</td>\n",
       "      <td>19807.126866</td>\n",
       "      <td>55.791045</td>\n",
       "      <td>2093.283582</td>\n",
       "    </tr>\n",
       "    <tr>\n",
       "      <td>12</td>\n",
       "      <td>609.129496</td>\n",
       "      <td>21815.683453</td>\n",
       "      <td>60.611511</td>\n",
       "      <td>2138.848921</td>\n",
       "    </tr>\n",
       "  </tbody>\n",
       "</table>\n",
       "</div>"
      ],
      "text/plain": [
       "         duration       mb_used   messages      revenue\n",
       "month                                                  \n",
       "1      440.888889  13154.666667  33.777778  1950.000000\n",
       "2      304.666667  11788.333333  21.958333  1975.000000\n",
       "3      503.081081  17553.513514  32.297297  2014.864865\n",
       "4      470.072727  16845.254545  31.563636  2001.818182\n",
       "5      524.865672  19383.194030  37.850746  2061.940299\n",
       "6      492.428571  18943.928571  41.726190  2041.071429\n",
       "7      560.296703  20516.571429  49.846154  2121.428571\n",
       "8      524.570093  19595.878505  48.439252  2083.177570\n",
       "9      553.643478  19224.043478  52.286957  2024.347826\n",
       "10     572.829268  20065.536585  58.430894  2067.073171\n",
       "11     555.805970  19807.126866  55.791045  2093.283582\n",
       "12     609.129496  21815.683453  60.611511  2138.848921"
      ]
     },
     "execution_count": 23,
     "metadata": {},
     "output_type": "execute_result"
    }
   ],
   "source": [
    "ultra_per_month = month_data.loc[1]\n",
    "ultra_per_month"
   ]
  },
  {
   "cell_type": "markdown",
   "metadata": {},
   "source": [
    "Расчёт средних значений использования услуг в разрезе тарифов."
   ]
  },
  {
   "cell_type": "code",
   "execution_count": 24,
   "metadata": {},
   "outputs": [
    {
     "data": {
      "text/html": [
       "<div>\n",
       "<style scoped>\n",
       "    .dataframe tbody tr th:only-of-type {\n",
       "        vertical-align: middle;\n",
       "    }\n",
       "\n",
       "    .dataframe tbody tr th {\n",
       "        vertical-align: top;\n",
       "    }\n",
       "\n",
       "    .dataframe thead th {\n",
       "        text-align: right;\n",
       "    }\n",
       "</style>\n",
       "<table border=\"1\" class=\"dataframe\">\n",
       "  <thead>\n",
       "    <tr style=\"text-align: right;\">\n",
       "      <th></th>\n",
       "      <th>duration</th>\n",
       "      <th>mb_used</th>\n",
       "      <th>messages</th>\n",
       "      <th>revenue</th>\n",
       "    </tr>\n",
       "    <tr>\n",
       "      <th>tariff_id</th>\n",
       "      <th></th>\n",
       "      <th></th>\n",
       "      <th></th>\n",
       "      <th></th>\n",
       "    </tr>\n",
       "  </thead>\n",
       "  <tbody>\n",
       "    <tr>\n",
       "      <td>0</td>\n",
       "      <td>397.374228</td>\n",
       "      <td>15085.107080</td>\n",
       "      <td>31.413211</td>\n",
       "      <td>1198.743306</td>\n",
       "    </tr>\n",
       "    <tr>\n",
       "      <td>1</td>\n",
       "      <td>509.356551</td>\n",
       "      <td>18224.477581</td>\n",
       "      <td>43.714983</td>\n",
       "      <td>2047.737868</td>\n",
       "    </tr>\n",
       "  </tbody>\n",
       "</table>\n",
       "</div>"
      ],
      "text/plain": [
       "             duration       mb_used   messages      revenue\n",
       "tariff_id                                                  \n",
       "0          397.374228  15085.107080  31.413211  1198.743306\n",
       "1          509.356551  18224.477581  43.714983  2047.737868"
      ]
     },
     "execution_count": 24,
     "metadata": {},
     "output_type": "execute_result"
    }
   ],
   "source": [
    "tariff_usage = month_data.pivot_table(\n",
    "    index='tariff_id',\n",
    "    values=values\n",
    ")\n",
    "tariff_usage"
   ]
  },
  {
   "cell_type": "markdown",
   "metadata": {},
   "source": [
    "**Выводы**\n",
    "\n",
    "- Клиенты Ультра более активны, при этом клиенты Смарт тратят больше на дополнительные пакеты услуг.\n",
    "- Компании выгоднее Ультра с точки зрения прибыли. Клиенты Смарт тратят недостаточно, чтобы нивелировать разницу между ценой в тарифах. Для простого пользователя выгоднее тариф Смарт."
   ]
  },
  {
   "cell_type": "markdown",
   "metadata": {},
   "source": [
    "Посчитаем среднее количество, дисперсию и стандартное отклонение. Построим гистограммы. Опишем распределения."
   ]
  },
  {
   "cell_type": "code",
   "execution_count": 34,
   "metadata": {},
   "outputs": [],
   "source": [
    "all_services['gb_used'] = all_services['mb_used'] / 1024"
   ]
  },
  {
   "cell_type": "code",
   "execution_count": 46,
   "metadata": {},
   "outputs": [
    {
     "data": {
      "text/html": [
       "<div>\n",
       "<style scoped>\n",
       "    .dataframe tbody tr th:only-of-type {\n",
       "        vertical-align: middle;\n",
       "    }\n",
       "\n",
       "    .dataframe tbody tr th {\n",
       "        vertical-align: top;\n",
       "    }\n",
       "\n",
       "    .dataframe thead tr th {\n",
       "        text-align: left;\n",
       "    }\n",
       "\n",
       "    .dataframe thead tr:last-of-type th {\n",
       "        text-align: right;\n",
       "    }\n",
       "</style>\n",
       "<table border=\"1\" class=\"dataframe\">\n",
       "  <thead>\n",
       "    <tr>\n",
       "      <th></th>\n",
       "      <th colspan=\"3\" halign=\"left\">duration</th>\n",
       "      <th colspan=\"3\" halign=\"left\">mb_used</th>\n",
       "      <th colspan=\"3\" halign=\"left\">messages</th>\n",
       "      <th colspan=\"4\" halign=\"left\">revenue</th>\n",
       "    </tr>\n",
       "    <tr>\n",
       "      <th></th>\n",
       "      <th>median</th>\n",
       "      <th>std</th>\n",
       "      <th>var</th>\n",
       "      <th>median</th>\n",
       "      <th>std</th>\n",
       "      <th>var</th>\n",
       "      <th>median</th>\n",
       "      <th>std</th>\n",
       "      <th>var</th>\n",
       "      <th>mean</th>\n",
       "      <th>median</th>\n",
       "      <th>std</th>\n",
       "      <th>var</th>\n",
       "    </tr>\n",
       "    <tr>\n",
       "      <th>tariff_id</th>\n",
       "      <th></th>\n",
       "      <th></th>\n",
       "      <th></th>\n",
       "      <th></th>\n",
       "      <th></th>\n",
       "      <th></th>\n",
       "      <th></th>\n",
       "      <th></th>\n",
       "      <th></th>\n",
       "      <th></th>\n",
       "      <th></th>\n",
       "      <th></th>\n",
       "      <th></th>\n",
       "    </tr>\n",
       "  </thead>\n",
       "  <tbody>\n",
       "    <tr>\n",
       "      <td>0</td>\n",
       "      <td>435.0</td>\n",
       "      <td>194.871174</td>\n",
       "      <td>37974.774628</td>\n",
       "      <td>16540.0</td>\n",
       "      <td>5879.795158</td>\n",
       "      <td>3.457199e+07</td>\n",
       "      <td>28.0</td>\n",
       "      <td>28.227876</td>\n",
       "      <td>796.812958</td>\n",
       "      <td>1312.512337</td>\n",
       "      <td>1075.0</td>\n",
       "      <td>830.938122</td>\n",
       "      <td>690458.161989</td>\n",
       "    </tr>\n",
       "    <tr>\n",
       "      <td>1</td>\n",
       "      <td>532.0</td>\n",
       "      <td>325.738740</td>\n",
       "      <td>106105.726823</td>\n",
       "      <td>19324.0</td>\n",
       "      <td>10097.107541</td>\n",
       "      <td>1.019516e+08</td>\n",
       "      <td>38.0</td>\n",
       "      <td>47.804457</td>\n",
       "      <td>2285.266143</td>\n",
       "      <td>2071.065990</td>\n",
       "      <td>1950.0</td>\n",
       "      <td>378.802377</td>\n",
       "      <td>143491.240560</td>\n",
       "    </tr>\n",
       "  </tbody>\n",
       "</table>\n",
       "</div>"
      ],
      "text/plain": [
       "          duration                             mb_used                \\\n",
       "            median         std            var   median           std   \n",
       "tariff_id                                                              \n",
       "0            435.0  194.871174   37974.774628  16540.0   5879.795158   \n",
       "1            532.0  325.738740  106105.726823  19324.0  10097.107541   \n",
       "\n",
       "                        messages                              revenue          \\\n",
       "                    var   median        std          var         mean  median   \n",
       "tariff_id                                                                       \n",
       "0          3.457199e+07     28.0  28.227876   796.812958  1312.512337  1075.0   \n",
       "1          1.019516e+08     38.0  47.804457  2285.266143  2071.065990  1950.0   \n",
       "\n",
       "                                      \n",
       "                  std            var  \n",
       "tariff_id                             \n",
       "0          830.938122  690458.161989  \n",
       "1          378.802377  143491.240560  "
      ]
     },
     "execution_count": 46,
     "metadata": {},
     "output_type": "execute_result"
    }
   ],
   "source": [
    "statistics = all_services.pivot_table(index=['tariff_id'], values=['duration', 'mb_used', 'messages', 'revenue'], \n",
    "                    aggfunc={'duration': [np.median, np.var, np.std], \n",
    "                             'mb_used': [np.median, np.var, np.std],\n",
    "                             'messages': [np.median, np.var, np.std],\n",
    "                             'revenue': [np.median, np.var, np.std, np.mean]})\n",
    "statistics"
   ]
  },
  {
   "cell_type": "code",
   "execution_count": 37,
   "metadata": {},
   "outputs": [
    {
     "data": {
      "image/png": "[encoded data removed]",
      "text/plain": [
       "<Figure size 360x360 with 1 Axes>"
      ]
     },
     "metadata": {
      "needs_background": "light"
     },
     "output_type": "display_data"
    },
    {
     "data": {
      "image/png": "[encoded data removed]",
      "text/plain": [
       "<Figure size 360x360 with 1 Axes>"
      ]
     },
     "metadata": {
      "needs_background": "light"
     },
     "output_type": "display_data"
    },
    {
     "data": {
      "image/png": "[encoded data removed]",
      "text/plain": [
       "<Figure size 360x360 with 1 Axes>"
      ]
     },
     "metadata": {
      "needs_background": "light"
     },
     "output_type": "display_data"
    }
   ],
   "source": [
    "import seaborn as sns\n",
    "for column in ['duration', 'gb_used', 'messages']:    \n",
    "    sns.catplot(x=\"tariff_id\", y=column, kind=\"box\", data=all_services, orient='v')"
   ]
  },
  {
   "cell_type": "code",
   "execution_count": 38,
   "metadata": {},
   "outputs": [
    {
     "data": {
      "image/png": "[encoded data removed]",
      "text/plain": [
       "<Figure size 432x288 with 1 Axes>"
      ]
     },
     "metadata": {
      "needs_background": "light"
     },
     "output_type": "display_data"
    }
   ],
   "source": [
    "for tariff in range(2):\n",
    "    sns.distplot(all_services.query('tariff_id == @tariff')['duration'], kde=False)\n",
    "_ = plt.legend(['ultra', 'smart'])"
   ]
  },
  {
   "cell_type": "code",
   "execution_count": 39,
   "metadata": {},
   "outputs": [
    {
     "data": {
      "image/png": "[encoded data removed]",
      "text/plain": [
       "<Figure size 432x288 with 1 Axes>"
      ]
     },
     "metadata": {
      "needs_background": "light"
     },
     "output_type": "display_data"
    }
   ],
   "source": [
    "for tariff in range(2):\n",
    "    sns.distplot(all_services.query('tariff_id == @tariff')['gb_used'], kde=False)\n",
    "_ = plt.legend(['ultra', 'smart'])"
   ]
  },
  {
   "cell_type": "code",
   "execution_count": 40,
   "metadata": {},
   "outputs": [
    {
     "data": {
      "image/png": "[encoded data removed]",
      "text/plain": [
       "<Figure size 432x288 with 1 Axes>"
      ]
     },
     "metadata": {
      "needs_background": "light"
     },
     "output_type": "display_data"
    }
   ],
   "source": [
    "for tariff in range(2):\n",
    "    sns.distplot(all_services.query('tariff_id == @tariff')['messages'], kde=False)\n",
    "_ = plt.legend(['ultra', 'smart'])"
   ]
  },
  {
   "cell_type": "markdown",
   "metadata": {},
   "source": [
    "Межквартильный размах шире у тарифа Ультра - это говорит о бОльшей неоднородности среди пользователей, чем у более простого Смарта, также у Ультра меньше выбросов. Медианы также имеют большее значение у более дорогого тарифа.\n",
    "\n",
    "Скорее всего это связано с тем, что клиенты с  более дорогим тарифом могут не задумываться о затраченных минутах, и говорить столько, сколько необходимо, а клиенты с более простым тарифом вынуждены время от времени экономить и укладывать свои потребности в те рамки, которые предоставляет тариф."
   ]
  },
  {
   "cell_type": "markdown",
   "metadata": {},
   "source": [
    "# 4. Проверка гипотез\n",
    "\n",
    "1. Средняя выручка пользователей тарифов «Ультра» и «Смарт» различается;\n",
    "2. Средняя выручка пользователей из Москвы отличается от выручки пользователей из других регионов;\n"
   ]
  },
  {
   "cell_type": "markdown",
   "metadata": {},
   "source": [
    "Гипотеза 1. Средняя выручка пользователей тарифов «Ультра» и «Смарт» различается.\n",
    "- H0 - гипотеза о том, что средние наших выборок равны. \n",
    "- H1 гипотезой будет наша гипотеза \"Средняя выручка пользователей тарифов «Ультра» и «Смарт» различается\".\n",
    "\n",
    "Критический уровень значимости заддадим 0.05. Таким образом вероятность правильности вывода 95% и больше."
   ]
  },
  {
   "cell_type": "code",
   "execution_count": 62,
   "metadata": {},
   "outputs": [
    {
     "name": "stdout",
     "output_type": "stream",
     "text": [
      "P-value: 6.010629686363275e-08\n",
      "Отвергаем нулевую гипотезу\n"
     ]
    }
   ],
   "source": [
    "from scipy import stats as st\n",
    "alpha = 0.05\n",
    "ultra = ultra_per_month['revenue']\n",
    "smart = smart_per_month['revenue']\n",
    "results = st.ttest_ind(smart, ultra, equal_var = False)\n",
    "print('P-value:', results.pvalue)\n",
    "\n",
    "if (results.pvalue < alpha):\n",
    "    print(\"Отвергаем нулевую гипотезу\")\n",
    "else:\n",
    "    print(\"Не получилось отвергнуть нулевую гипотезу\")"
   ]
  },
  {
   "cell_type": "markdown",
   "metadata": {},
   "source": [
    "Значение p-lavue свидетельствует о малой вероятности случайного совпадения средних по тарифам. Значит отвергаем нулевую гипотезу и можем сказать, что с 95% вероятностью средние значения выручки по тарифам не совпадут."
   ]
  },
  {
   "cell_type": "markdown",
   "metadata": {},
   "source": [
    "Гипотеза 2. Средняя выручка пользователей из Москвы отличается от выручки пользователей из других регионовю\n",
    "\n",
    "- H0 - средняя выручка пользователей из Москвы равна средней выручке пользователей из других регионов.\n",
    "- H1 - средняя выручка пользователей из Москвы отличается средней выручке пользователей из других регионов. \n",
    "\n",
    "Критический уровень значимости заддадим 0.05. Таким образом вероятность правильности вывода 95% и больше."
   ]
  },
  {
   "cell_type": "code",
   "execution_count": 63,
   "metadata": {},
   "outputs": [
    {
     "name": "stdout",
     "output_type": "stream",
     "text": [
      "P-value: 0.560259602740345\n",
      "Не получилось отвергнуть нулевую гипотезу\n"
     ]
    }
   ],
   "source": [
    "#создадим две таблицы, в одной будут все клиенты из москвы, во второй - все остальные\n",
    "citys = all_services.merge(users.loc[: , ['user_id', 'city']], on='user_id')\n",
    "\n",
    "moscow = citys.query('city == \"Москва\"')['revenue']\n",
    "regions = citys.query('city != \"Москва\"')['revenue']\n",
    "\n",
    "alpha = 0.05\n",
    "results = st.ttest_ind(moscow, regions, equal_var = False)\n",
    "print('P-value:', results.pvalue)\n",
    "\n",
    "if (results.pvalue < alpha):\n",
    "    print(\"Отвергаем нулевую гипотезу\")\n",
    "else:\n",
    "    print(\"Не получилось отвергнуть нулевую гипотезу\")"
   ]
  },
  {
   "cell_type": "markdown",
   "metadata": {},
   "source": [
    "Полученное значение достаточно высоко, это говорит нам о том, что нулевая гипотеза не может быть отвергнута."
   ]
  },
  {
   "cell_type": "markdown",
   "metadata": {},
   "source": [
    "**Общий вывод**\n",
    "\n",
    "После подготовки данных мы сформировали необходимые нам сводные таблицы для анализа. Посчитали по месяцам прибыль по каждому клиенту для компании, в разрезе тарифа и региона(Москва/регионы). Проверили две поставленных гипотезы:\n",
    "\n",
    "- средняя прибыльность двух тарифов различается\n",
    "- прибыль от тарифа Ультра выше прибыли по тарифу Смарт\n"
   ]
  },
  {
   "cell_type": "markdown",
   "metadata": {},
   "source": [
    "*Резюмируя ответ на вопрос \"Какой тариф лучше?\" с учётом анализа и проверки гипотез можем сказать: для оператора выгоднее тариф Ультра, так как он приносит больше прибыли за каждого пользователя, а для пользователя выгоднее тариф Смарт, так как по большей части польхователи Смарт укладываются в рамки тарифа.*"
   ]
  }
 ],
 "metadata": {
  "ExecuteTimeLog": [
   {
    "duration": 3273,
    "start_time": "2021-12-01T15:13:02.485Z"
   },
   {
    "duration": 57,
    "start_time": "2021-12-01T15:15:58.511Z"
   },
   {
    "duration": 133,
    "start_time": "2021-12-01T15:37:22.299Z"
   },
   {
    "duration": 58,
    "start_time": "2021-12-01T15:53:57.024Z"
   },
   {
    "duration": 16,
    "start_time": "2021-12-01T16:07:09.342Z"
   },
   {
    "duration": 10,
    "start_time": "2021-12-01T16:10:06.453Z"
   },
   {
    "duration": 8,
    "start_time": "2021-12-01T16:10:17.306Z"
   },
   {
    "duration": 14,
    "start_time": "2021-12-01T16:11:30.482Z"
   },
   {
    "duration": 9,
    "start_time": "2021-12-01T16:11:40.054Z"
   },
   {
    "duration": 2761,
    "start_time": "2021-12-01T16:11:54.181Z"
   },
   {
    "duration": 379,
    "start_time": "2021-12-01T16:12:19.627Z"
   },
   {
    "duration": 377,
    "start_time": "2021-12-01T16:12:48.938Z"
   },
   {
    "duration": 9,
    "start_time": "2021-12-01T16:13:07.188Z"
   },
   {
    "duration": 17,
    "start_time": "2021-12-01T19:23:01.684Z"
   },
   {
    "duration": 16,
    "start_time": "2021-12-01T19:23:09.156Z"
   },
   {
    "duration": 15,
    "start_time": "2021-12-01T19:23:14.911Z"
   },
   {
    "duration": 15,
    "start_time": "2021-12-01T19:23:31.043Z"
   },
   {
    "duration": 406,
    "start_time": "2021-12-01T19:25:06.530Z"
   },
   {
    "duration": 471,
    "start_time": "2021-12-01T19:25:13.035Z"
   },
   {
    "duration": 31,
    "start_time": "2021-12-01T19:25:22.048Z"
   },
   {
    "duration": 32,
    "start_time": "2021-12-01T19:25:32.975Z"
   },
   {
    "duration": 370,
    "start_time": "2021-12-01T19:26:52.160Z"
   },
   {
    "duration": 125,
    "start_time": "2021-12-01T19:27:17.539Z"
   },
   {
    "duration": 560,
    "start_time": "2021-12-01T19:27:23.056Z"
   },
   {
    "duration": 188,
    "start_time": "2021-12-01T19:27:37.989Z"
   },
   {
    "duration": 133,
    "start_time": "2021-12-01T19:28:07.247Z"
   },
   {
    "duration": 31,
    "start_time": "2021-12-01T19:28:44.309Z"
   },
   {
    "duration": 28,
    "start_time": "2021-12-01T19:28:53.414Z"
   },
   {
    "duration": 365,
    "start_time": "2021-12-01T20:36:22.984Z"
   },
   {
    "duration": 11,
    "start_time": "2021-12-01T20:36:49.597Z"
   },
   {
    "duration": 653,
    "start_time": "2021-12-01T20:50:17.466Z"
   },
   {
    "duration": 15,
    "start_time": "2021-12-01T20:51:26.250Z"
   },
   {
    "duration": 405,
    "start_time": "2021-12-01T20:52:03.303Z"
   },
   {
    "duration": 14,
    "start_time": "2021-12-01T20:52:18.379Z"
   },
   {
    "duration": 18,
    "start_time": "2021-12-01T20:53:01.870Z"
   },
   {
    "duration": 398,
    "start_time": "2021-12-01T20:55:02.587Z"
   },
   {
    "duration": 8,
    "start_time": "2021-12-01T21:11:47.426Z"
   },
   {
    "duration": 6,
    "start_time": "2021-12-01T21:12:17.253Z"
   },
   {
    "duration": 15,
    "start_time": "2021-12-01T21:12:29.617Z"
   },
   {
    "duration": 390,
    "start_time": "2021-12-01T21:13:06.989Z"
   },
   {
    "duration": 398,
    "start_time": "2021-12-01T21:13:38.475Z"
   },
   {
    "duration": 35,
    "start_time": "2021-12-01T21:15:44.215Z"
   },
   {
    "duration": 8,
    "start_time": "2021-12-01T21:15:47.332Z"
   },
   {
    "duration": 20,
    "start_time": "2021-12-01T21:16:16.200Z"
   },
   {
    "duration": 1864,
    "start_time": "2021-12-01T21:19:51.559Z"
   },
   {
    "duration": 534,
    "start_time": "2021-12-01T21:19:53.425Z"
   },
   {
    "duration": 99,
    "start_time": "2021-12-01T21:19:54.184Z"
   },
   {
    "duration": 471,
    "start_time": "2021-12-01T21:20:01.883Z"
   },
   {
    "duration": 431,
    "start_time": "2021-12-01T21:20:30.454Z"
   },
   {
    "duration": 440,
    "start_time": "2021-12-01T21:20:32.030Z"
   },
   {
    "duration": 57,
    "start_time": "2021-12-01T21:20:47.571Z"
   },
   {
    "duration": 58,
    "start_time": "2021-12-01T21:21:23.699Z"
   },
   {
    "duration": 64,
    "start_time": "2021-12-01T21:21:39.059Z"
   },
   {
    "duration": 32,
    "start_time": "2021-12-01T21:21:39.635Z"
   },
   {
    "duration": 8,
    "start_time": "2021-12-01T21:21:43.544Z"
   },
   {
    "duration": 10,
    "start_time": "2021-12-01T21:21:55.002Z"
   },
   {
    "duration": 516,
    "start_time": "2021-12-02T22:09:00.567Z"
   },
   {
    "duration": 1947,
    "start_time": "2021-12-02T22:09:33.978Z"
   },
   {
    "duration": 89,
    "start_time": "2021-12-02T22:09:35.928Z"
   },
   {
    "duration": 118,
    "start_time": "2021-12-02T22:09:36.021Z"
   },
   {
    "duration": 64,
    "start_time": "2021-12-02T22:09:36.141Z"
   },
   {
    "duration": 13,
    "start_time": "2021-12-02T22:09:37.536Z"
   },
   {
    "duration": 14,
    "start_time": "2021-12-02T22:09:38.935Z"
   },
   {
    "duration": 163,
    "start_time": "2021-12-02T22:09:40.446Z"
   },
   {
    "duration": 5,
    "start_time": "2021-12-02T22:16:17.530Z"
   },
   {
    "duration": 99,
    "start_time": "2021-12-02T22:19:26.896Z"
   },
   {
    "duration": 7,
    "start_time": "2021-12-02T22:19:52.253Z"
   },
   {
    "duration": 17,
    "start_time": "2021-12-02T22:26:36.861Z"
   },
   {
    "duration": 10,
    "start_time": "2021-12-02T22:26:57.867Z"
   },
   {
    "duration": 659,
    "start_time": "2021-12-02T22:45:12.645Z"
   },
   {
    "duration": 443,
    "start_time": "2021-12-02T22:45:48.575Z"
   },
   {
    "duration": 13,
    "start_time": "2021-12-02T22:45:54.220Z"
   },
   {
    "duration": 12,
    "start_time": "2021-12-02T22:47:20.340Z"
   },
   {
    "duration": 1390,
    "start_time": "2021-12-04T10:54:00.658Z"
   },
   {
    "duration": 59,
    "start_time": "2021-12-04T10:54:02.709Z"
   },
   {
    "duration": 57,
    "start_time": "2021-12-04T10:54:05.804Z"
   },
   {
    "duration": 29,
    "start_time": "2021-12-04T10:54:06.433Z"
   },
   {
    "duration": 9,
    "start_time": "2021-12-04T10:54:07.893Z"
   },
   {
    "duration": 10,
    "start_time": "2021-12-04T10:54:09.077Z"
   },
   {
    "duration": 110,
    "start_time": "2021-12-04T10:54:10.253Z"
   },
   {
    "duration": 4,
    "start_time": "2021-12-04T10:54:11.907Z"
   },
   {
    "duration": 64,
    "start_time": "2021-12-04T10:54:12.848Z"
   },
   {
    "duration": 8,
    "start_time": "2021-12-04T10:54:13.882Z"
   },
   {
    "duration": 10,
    "start_time": "2021-12-04T10:54:14.804Z"
   },
   {
    "duration": 5,
    "start_time": "2021-12-04T10:54:16.407Z"
   },
   {
    "duration": 10,
    "start_time": "2021-12-04T11:45:48.710Z"
   },
   {
    "duration": 261,
    "start_time": "2021-12-04T11:50:48.248Z"
   },
   {
    "duration": 4128,
    "start_time": "2021-12-04T11:50:52.716Z"
   },
   {
    "duration": 8,
    "start_time": "2021-12-04T11:51:19.682Z"
   },
   {
    "duration": 278,
    "start_time": "2021-12-04T11:53:58.937Z"
   },
   {
    "duration": 103,
    "start_time": "2021-12-04T11:54:18.923Z"
   },
   {
    "duration": 91,
    "start_time": "2021-12-04T11:54:34.284Z"
   },
   {
    "duration": 91,
    "start_time": "2021-12-04T11:54:45.190Z"
   },
   {
    "duration": 206,
    "start_time": "2021-12-04T11:58:46.952Z"
   },
   {
    "duration": 4991,
    "start_time": "2021-12-04T11:59:43.526Z"
   },
   {
    "duration": 4606,
    "start_time": "2021-12-04T11:59:57.209Z"
   },
   {
    "duration": 45,
    "start_time": "2021-12-04T12:00:27.068Z"
   },
   {
    "duration": 249,
    "start_time": "2021-12-04T12:00:55.911Z"
   },
   {
    "duration": 88,
    "start_time": "2021-12-04T12:01:39.297Z"
   },
   {
    "duration": 190,
    "start_time": "2021-12-04T12:01:56.587Z"
   },
   {
    "duration": 53,
    "start_time": "2021-12-04T12:02:18.289Z"
   },
   {
    "duration": 74,
    "start_time": "2021-12-04T12:02:50.265Z"
   },
   {
    "duration": 73,
    "start_time": "2021-12-04T12:04:04.748Z"
   },
   {
    "duration": 65,
    "start_time": "2021-12-04T12:04:15.171Z"
   },
   {
    "duration": 173,
    "start_time": "2021-12-04T12:57:28.339Z"
   },
   {
    "duration": 171,
    "start_time": "2021-12-04T12:58:43.504Z"
   },
   {
    "duration": 281,
    "start_time": "2021-12-04T13:04:59.157Z"
   },
   {
    "duration": 58,
    "start_time": "2021-12-04T13:05:34.599Z"
   },
   {
    "duration": 363,
    "start_time": "2021-12-04T13:05:48.818Z"
   },
   {
    "duration": 293,
    "start_time": "2021-12-04T13:06:09.896Z"
   },
   {
    "duration": 174,
    "start_time": "2021-12-04T13:23:48.961Z"
   },
   {
    "duration": 23,
    "start_time": "2021-12-04T13:29:03.832Z"
   },
   {
    "duration": 12,
    "start_time": "2021-12-04T13:31:47.810Z"
   },
   {
    "duration": 8,
    "start_time": "2021-12-04T13:32:07.720Z"
   },
   {
    "duration": 4,
    "start_time": "2021-12-04T13:32:19.164Z"
   },
   {
    "duration": 5,
    "start_time": "2021-12-04T13:32:34.827Z"
   },
   {
    "duration": 5,
    "start_time": "2021-12-04T13:32:48.282Z"
   },
   {
    "duration": 23,
    "start_time": "2021-12-04T13:33:25.786Z"
   },
   {
    "duration": 204,
    "start_time": "2021-12-04T13:37:34.226Z"
   },
   {
    "duration": 4188,
    "start_time": "2021-12-04T13:38:06.874Z"
   },
   {
    "duration": 5003,
    "start_time": "2021-12-04T13:38:37.379Z"
   },
   {
    "duration": 4714,
    "start_time": "2021-12-04T13:39:06.127Z"
   },
   {
    "duration": 4345,
    "start_time": "2021-12-04T13:39:30.786Z"
   },
   {
    "duration": 4158,
    "start_time": "2021-12-04T13:40:53.514Z"
   },
   {
    "duration": 55,
    "start_time": "2021-12-04T13:41:14.111Z"
   },
   {
    "duration": 4093,
    "start_time": "2021-12-04T13:42:02.593Z"
   },
   {
    "duration": 9,
    "start_time": "2021-12-04T13:42:20.212Z"
   },
   {
    "duration": 172,
    "start_time": "2021-12-04T13:42:38.736Z"
   },
   {
    "duration": 19,
    "start_time": "2021-12-04T13:43:19.758Z"
   },
   {
    "duration": 178,
    "start_time": "2021-12-04T14:56:20.443Z"
   },
   {
    "duration": 4926,
    "start_time": "2021-12-04T14:56:32.512Z"
   },
   {
    "duration": 78,
    "start_time": "2021-12-04T14:57:13.255Z"
   },
   {
    "duration": 65,
    "start_time": "2021-12-04T14:58:55.471Z"
   },
   {
    "duration": 5187,
    "start_time": "2021-12-04T15:00:19.456Z"
   },
   {
    "duration": 603,
    "start_time": "2021-12-04T15:00:39.323Z"
   },
   {
    "duration": 1392,
    "start_time": "2021-12-04T15:02:04.866Z"
   },
   {
    "duration": 59,
    "start_time": "2021-12-04T15:02:06.261Z"
   },
   {
    "duration": 69,
    "start_time": "2021-12-04T15:02:06.322Z"
   },
   {
    "duration": 28,
    "start_time": "2021-12-04T15:02:06.393Z"
   },
   {
    "duration": 7,
    "start_time": "2021-12-04T15:02:06.423Z"
   },
   {
    "duration": 9,
    "start_time": "2021-12-04T15:02:06.432Z"
   },
   {
    "duration": 138,
    "start_time": "2021-12-04T15:02:06.442Z"
   },
   {
    "duration": 11,
    "start_time": "2021-12-04T15:02:06.582Z"
   },
   {
    "duration": 77,
    "start_time": "2021-12-04T15:02:06.595Z"
   },
   {
    "duration": 20,
    "start_time": "2021-12-04T15:02:06.675Z"
   },
   {
    "duration": 11,
    "start_time": "2021-12-04T15:02:06.697Z"
   },
   {
    "duration": 5,
    "start_time": "2021-12-04T15:02:06.710Z"
   },
   {
    "duration": 97,
    "start_time": "2021-12-04T15:02:06.716Z"
   },
   {
    "duration": 124,
    "start_time": "2021-12-04T15:02:06.815Z"
   },
   {
    "duration": 92,
    "start_time": "2021-12-04T15:02:06.941Z"
   },
   {
    "duration": 21,
    "start_time": "2021-12-04T15:02:07.035Z"
   },
   {
    "duration": 36,
    "start_time": "2021-12-04T15:02:07.058Z"
   },
   {
    "duration": 13,
    "start_time": "2021-12-04T15:02:07.096Z"
   },
   {
    "duration": 370,
    "start_time": "2021-12-04T15:02:19.099Z"
   },
   {
    "duration": 286,
    "start_time": "2021-12-04T15:06:15.055Z"
   },
   {
    "duration": 1403,
    "start_time": "2021-12-04T15:09:29.562Z"
   },
   {
    "duration": 1160,
    "start_time": "2021-12-04T15:09:46.288Z"
   },
   {
    "duration": 5,
    "start_time": "2021-12-04T15:11:06.389Z"
   },
   {
    "duration": 300,
    "start_time": "2021-12-04T15:11:41.025Z"
   },
   {
    "duration": 302,
    "start_time": "2021-12-04T15:14:01.934Z"
   },
   {
    "duration": 301,
    "start_time": "2021-12-04T15:14:46.933Z"
   },
   {
    "duration": 305,
    "start_time": "2021-12-04T15:16:26.879Z"
   },
   {
    "duration": 315,
    "start_time": "2021-12-04T15:17:17.321Z"
   },
   {
    "duration": 292,
    "start_time": "2021-12-04T15:17:51.713Z"
   },
   {
    "duration": 626,
    "start_time": "2021-12-04T15:18:06.603Z"
   },
   {
    "duration": 298,
    "start_time": "2021-12-04T15:18:24.847Z"
   },
   {
    "duration": 335,
    "start_time": "2021-12-04T15:18:42.709Z"
   },
   {
    "duration": 196,
    "start_time": "2021-12-04T15:19:36.982Z"
   },
   {
    "duration": 178,
    "start_time": "2021-12-04T15:19:41.957Z"
   },
   {
    "duration": 167,
    "start_time": "2021-12-04T15:19:45.760Z"
   },
   {
    "duration": 6,
    "start_time": "2021-12-04T15:19:55.694Z"
   },
   {
    "duration": 6,
    "start_time": "2021-12-04T15:20:52.407Z"
   },
   {
    "duration": 294,
    "start_time": "2021-12-04T15:22:58.003Z"
   },
   {
    "duration": 365,
    "start_time": "2021-12-04T15:23:12.022Z"
   },
   {
    "duration": 4537,
    "start_time": "2021-12-04T15:23:21.508Z"
   },
   {
    "duration": 430,
    "start_time": "2021-12-04T15:23:43.715Z"
   },
   {
    "duration": 1401,
    "start_time": "2021-12-04T15:24:27.493Z"
   },
   {
    "duration": 57,
    "start_time": "2021-12-04T15:24:28.896Z"
   },
   {
    "duration": 79,
    "start_time": "2021-12-04T15:24:28.955Z"
   },
   {
    "duration": 28,
    "start_time": "2021-12-04T15:24:29.036Z"
   },
   {
    "duration": 28,
    "start_time": "2021-12-04T15:24:29.066Z"
   },
   {
    "duration": 9,
    "start_time": "2021-12-04T15:24:29.096Z"
   },
   {
    "duration": 123,
    "start_time": "2021-12-04T15:24:29.107Z"
   },
   {
    "duration": 4,
    "start_time": "2021-12-04T15:24:29.232Z"
   },
   {
    "duration": 76,
    "start_time": "2021-12-04T15:24:29.238Z"
   },
   {
    "duration": 7,
    "start_time": "2021-12-04T15:24:29.316Z"
   },
   {
    "duration": 15,
    "start_time": "2021-12-04T15:24:29.324Z"
   },
   {
    "duration": 12,
    "start_time": "2021-12-04T15:24:29.341Z"
   },
   {
    "duration": 91,
    "start_time": "2021-12-04T15:24:29.355Z"
   },
   {
    "duration": 123,
    "start_time": "2021-12-04T15:24:29.448Z"
   },
   {
    "duration": 95,
    "start_time": "2021-12-04T15:24:29.573Z"
   },
   {
    "duration": 31,
    "start_time": "2021-12-04T15:24:29.670Z"
   },
   {
    "duration": 21,
    "start_time": "2021-12-04T15:24:29.702Z"
   },
   {
    "duration": 14,
    "start_time": "2021-12-04T15:24:29.725Z"
   },
   {
    "duration": 6,
    "start_time": "2021-12-04T15:24:29.740Z"
   },
   {
    "duration": 493,
    "start_time": "2021-12-04T15:24:29.747Z"
   },
   {
    "duration": 288,
    "start_time": "2021-12-04T15:25:48.224Z"
   },
   {
    "duration": 17,
    "start_time": "2021-12-04T15:35:37.668Z"
   },
   {
    "duration": 253,
    "start_time": "2021-12-04T15:41:03.642Z"
   },
   {
    "duration": 181,
    "start_time": "2021-12-04T15:43:17.287Z"
   },
   {
    "duration": 16,
    "start_time": "2021-12-04T15:43:27.124Z"
   },
   {
    "duration": 28,
    "start_time": "2021-12-04T15:43:38.370Z"
   },
   {
    "duration": 190,
    "start_time": "2021-12-04T15:45:57.696Z"
   },
   {
    "duration": 419,
    "start_time": "2021-12-04T15:50:00.457Z"
   },
   {
    "duration": 431,
    "start_time": "2021-12-04T15:50:16.295Z"
   },
   {
    "duration": 440,
    "start_time": "2021-12-04T15:54:24.682Z"
   },
   {
    "duration": 482,
    "start_time": "2021-12-04T15:54:35.012Z"
   },
   {
    "duration": 178,
    "start_time": "2021-12-04T15:57:22.369Z"
   },
   {
    "duration": 216,
    "start_time": "2021-12-04T15:57:29.072Z"
   },
   {
    "duration": 175,
    "start_time": "2021-12-04T15:57:46.777Z"
   },
   {
    "duration": 473,
    "start_time": "2021-12-04T15:58:02.326Z"
   },
   {
    "duration": 929,
    "start_time": "2021-12-04T16:00:55.535Z"
   },
   {
    "duration": 4390,
    "start_time": "2021-12-04T16:02:07.288Z"
   },
   {
    "duration": 3920,
    "start_time": "2021-12-04T16:02:58.321Z"
   },
   {
    "duration": 1741,
    "start_time": "2021-12-04T16:03:18.598Z"
   },
   {
    "duration": 4179,
    "start_time": "2021-12-04T16:04:20.550Z"
   },
   {
    "duration": 921,
    "start_time": "2021-12-04T16:04:31.233Z"
   },
   {
    "duration": 6,
    "start_time": "2021-12-04T16:07:07.457Z"
   },
   {
    "duration": 4,
    "start_time": "2021-12-04T16:07:15.106Z"
   },
   {
    "duration": 12,
    "start_time": "2021-12-04T16:07:21.880Z"
   },
   {
    "duration": 794,
    "start_time": "2021-12-04T16:21:35.620Z"
   },
   {
    "duration": 183,
    "start_time": "2021-12-04T16:25:37.586Z"
   },
   {
    "duration": 5557,
    "start_time": "2021-12-04T16:26:09.718Z"
   },
   {
    "duration": 59,
    "start_time": "2021-12-04T16:27:04.872Z"
   },
   {
    "duration": 4225,
    "start_time": "2021-12-04T16:27:16.366Z"
   },
   {
    "duration": 261,
    "start_time": "2021-12-04T16:29:45.603Z"
   },
   {
    "duration": 938,
    "start_time": "2021-12-04T16:30:01.618Z"
   },
   {
    "duration": 638,
    "start_time": "2021-12-04T16:31:09.117Z"
   },
   {
    "duration": 461,
    "start_time": "2021-12-04T16:32:40.215Z"
   },
   {
    "duration": 670,
    "start_time": "2021-12-04T16:33:53.658Z"
   },
   {
    "duration": 438,
    "start_time": "2021-12-04T16:34:27.053Z"
   },
   {
    "duration": 926,
    "start_time": "2021-12-04T16:34:44.522Z"
   },
   {
    "duration": 948,
    "start_time": "2021-12-04T16:35:57.791Z"
   },
   {
    "duration": 371,
    "start_time": "2021-12-04T16:47:53.465Z"
   },
   {
    "duration": 476,
    "start_time": "2021-12-04T16:49:34.914Z"
   },
   {
    "duration": 970,
    "start_time": "2021-12-04T16:49:53.292Z"
   },
   {
    "duration": 1103,
    "start_time": "2021-12-04T16:50:55.243Z"
   },
   {
    "duration": 44,
    "start_time": "2021-12-04T20:31:29.146Z"
   },
   {
    "duration": 173,
    "start_time": "2021-12-04T20:33:01.274Z"
   },
   {
    "duration": 219,
    "start_time": "2021-12-04T20:33:22.589Z"
   },
   {
    "duration": 7,
    "start_time": "2021-12-04T20:33:31.280Z"
   },
   {
    "duration": 7,
    "start_time": "2021-12-04T20:33:46.821Z"
   },
   {
    "duration": 180,
    "start_time": "2021-12-04T20:34:01.609Z"
   },
   {
    "duration": 4138,
    "start_time": "2021-12-04T20:43:57.730Z"
   },
   {
    "duration": 61,
    "start_time": "2021-12-04T20:44:36.552Z"
   },
   {
    "duration": 62,
    "start_time": "2021-12-04T20:44:44.072Z"
   },
   {
    "duration": 57,
    "start_time": "2021-12-04T20:44:57.121Z"
   },
   {
    "duration": 4,
    "start_time": "2021-12-04T20:45:02.022Z"
   },
   {
    "duration": 7,
    "start_time": "2021-12-04T20:45:06.228Z"
   },
   {
    "duration": 309,
    "start_time": "2021-12-04T20:45:20.202Z"
   },
   {
    "duration": 61,
    "start_time": "2021-12-04T20:45:30.868Z"
   },
   {
    "duration": 7,
    "start_time": "2021-12-04T20:45:34.763Z"
   },
   {
    "duration": 4281,
    "start_time": "2021-12-04T20:45:58.455Z"
   },
   {
    "duration": 7,
    "start_time": "2021-12-04T20:46:09.272Z"
   },
   {
    "duration": 4436,
    "start_time": "2021-12-04T20:47:44.133Z"
   },
   {
    "duration": 4237,
    "start_time": "2021-12-04T20:48:01.267Z"
   },
   {
    "duration": 8,
    "start_time": "2021-12-04T20:49:02.452Z"
   },
   {
    "duration": 6,
    "start_time": "2021-12-04T20:50:34.434Z"
   },
   {
    "duration": 6,
    "start_time": "2021-12-04T20:50:42.443Z"
   },
   {
    "duration": 171,
    "start_time": "2021-12-04T20:50:52.533Z"
   },
   {
    "duration": 10,
    "start_time": "2021-12-04T20:51:03.293Z"
   },
   {
    "duration": 39,
    "start_time": "2021-12-04T20:52:14.177Z"
   },
   {
    "duration": 32,
    "start_time": "2021-12-04T20:52:39.308Z"
   },
   {
    "duration": 63,
    "start_time": "2021-12-04T20:56:00.971Z"
   },
   {
    "duration": 1421,
    "start_time": "2021-12-04T20:56:30.817Z"
   },
   {
    "duration": 672,
    "start_time": "2021-12-04T20:56:57.779Z"
   },
   {
    "duration": 172,
    "start_time": "2021-12-04T20:58:35.956Z"
   },
   {
    "duration": 176,
    "start_time": "2021-12-04T20:58:54.968Z"
   },
   {
    "duration": 177,
    "start_time": "2021-12-04T21:12:13.874Z"
   },
   {
    "duration": 45,
    "start_time": "2021-12-04T21:12:34.694Z"
   },
   {
    "duration": 186,
    "start_time": "2021-12-04T21:12:53.072Z"
   },
   {
    "duration": 10,
    "start_time": "2021-12-04T21:13:15.874Z"
   },
   {
    "duration": 4150,
    "start_time": "2021-12-04T21:43:33.453Z"
   },
   {
    "duration": 220,
    "start_time": "2021-12-04T21:46:28.554Z"
   },
   {
    "duration": 185,
    "start_time": "2021-12-04T21:49:25.600Z"
   },
   {
    "duration": 15,
    "start_time": "2021-12-04T21:49:37.261Z"
   },
   {
    "duration": 1594,
    "start_time": "2021-12-05T17:19:10.847Z"
   },
   {
    "duration": 104,
    "start_time": "2021-12-05T17:19:12.443Z"
   },
   {
    "duration": 59,
    "start_time": "2021-12-05T17:19:12.549Z"
   },
   {
    "duration": 35,
    "start_time": "2021-12-05T17:19:12.610Z"
   },
   {
    "duration": 8,
    "start_time": "2021-12-05T17:19:12.647Z"
   },
   {
    "duration": 9,
    "start_time": "2021-12-05T17:19:12.657Z"
   },
   {
    "duration": 144,
    "start_time": "2021-12-05T17:19:12.668Z"
   },
   {
    "duration": 4,
    "start_time": "2021-12-05T17:19:12.815Z"
   },
   {
    "duration": 101,
    "start_time": "2021-12-05T17:19:12.822Z"
   },
   {
    "duration": 9,
    "start_time": "2021-12-05T17:19:12.944Z"
   },
   {
    "duration": 13,
    "start_time": "2021-12-05T17:19:12.955Z"
   },
   {
    "duration": 6,
    "start_time": "2021-12-05T17:19:12.970Z"
   },
   {
    "duration": 146,
    "start_time": "2021-12-05T17:19:12.978Z"
   },
   {
    "duration": 107,
    "start_time": "2021-12-05T17:19:13.126Z"
   },
   {
    "duration": 87,
    "start_time": "2021-12-05T17:19:13.235Z"
   },
   {
    "duration": 22,
    "start_time": "2021-12-05T17:19:13.323Z"
   },
   {
    "duration": 21,
    "start_time": "2021-12-05T17:19:13.346Z"
   },
   {
    "duration": 13,
    "start_time": "2021-12-05T17:19:13.369Z"
   },
   {
    "duration": 4,
    "start_time": "2021-12-05T17:19:13.384Z"
   },
   {
    "duration": 368,
    "start_time": "2021-12-05T17:19:13.389Z"
   },
   {
    "duration": 16,
    "start_time": "2021-12-05T17:19:13.759Z"
   },
   {
    "duration": 25,
    "start_time": "2021-12-05T17:19:13.777Z"
   },
   {
    "duration": 1052,
    "start_time": "2021-12-05T17:19:13.803Z"
   },
   {
    "duration": 10,
    "start_time": "2021-12-05T17:19:14.856Z"
   },
   {
    "duration": 36,
    "start_time": "2021-12-05T17:19:14.867Z"
   },
   {
    "duration": 8,
    "start_time": "2021-12-05T17:23:17.383Z"
   },
   {
    "duration": 13,
    "start_time": "2021-12-05T17:24:11.273Z"
   },
   {
    "duration": 1303,
    "start_time": "2021-12-06T06:41:32.451Z"
   },
   {
    "duration": 63,
    "start_time": "2021-12-06T06:41:33.756Z"
   },
   {
    "duration": 82,
    "start_time": "2021-12-06T06:41:33.822Z"
   },
   {
    "duration": 32,
    "start_time": "2021-12-06T06:41:33.906Z"
   },
   {
    "duration": 10,
    "start_time": "2021-12-06T06:41:33.940Z"
   },
   {
    "duration": 41,
    "start_time": "2021-12-06T06:41:33.952Z"
   },
   {
    "duration": 129,
    "start_time": "2021-12-06T06:41:33.995Z"
   },
   {
    "duration": 5,
    "start_time": "2021-12-06T06:41:34.126Z"
   },
   {
    "duration": 77,
    "start_time": "2021-12-06T06:41:34.132Z"
   },
   {
    "duration": 7,
    "start_time": "2021-12-06T06:41:34.210Z"
   },
   {
    "duration": 13,
    "start_time": "2021-12-06T06:41:34.219Z"
   },
   {
    "duration": 100,
    "start_time": "2021-12-06T06:41:34.234Z"
   },
   {
    "duration": 80,
    "start_time": "2021-12-06T06:41:34.336Z"
   },
   {
    "duration": 121,
    "start_time": "2021-12-06T06:41:34.418Z"
   },
   {
    "duration": 97,
    "start_time": "2021-12-06T06:41:34.540Z"
   },
   {
    "duration": 23,
    "start_time": "2021-12-06T06:41:34.639Z"
   },
   {
    "duration": 36,
    "start_time": "2021-12-06T06:41:34.664Z"
   },
   {
    "duration": 20,
    "start_time": "2021-12-06T06:41:34.702Z"
   },
   {
    "duration": 11,
    "start_time": "2021-12-06T06:41:34.724Z"
   },
   {
    "duration": 282,
    "start_time": "2021-12-06T06:41:46.804Z"
   },
   {
    "duration": 17,
    "start_time": "2021-12-06T06:55:33.517Z"
   },
   {
    "duration": 15,
    "start_time": "2021-12-06T06:58:38.291Z"
   },
   {
    "duration": 274,
    "start_time": "2021-12-06T07:03:11.270Z"
   },
   {
    "duration": 14,
    "start_time": "2021-12-06T07:04:34.858Z"
   },
   {
    "duration": 31,
    "start_time": "2021-12-06T07:04:45.529Z"
   },
   {
    "duration": 1039,
    "start_time": "2021-12-06T07:05:18.080Z"
   },
   {
    "duration": 666,
    "start_time": "2021-12-06T08:16:30.933Z"
   },
   {
    "duration": 693,
    "start_time": "2021-12-06T08:17:17.361Z"
   },
   {
    "duration": 1051,
    "start_time": "2021-12-06T08:17:44.979Z"
   },
   {
    "duration": 408,
    "start_time": "2021-12-06T08:17:54.819Z"
   },
   {
    "duration": 230,
    "start_time": "2021-12-06T08:22:36.774Z"
   },
   {
    "duration": 183,
    "start_time": "2021-12-06T08:22:47.162Z"
   },
   {
    "duration": 720,
    "start_time": "2021-12-06T08:23:01.174Z"
   },
   {
    "duration": 629,
    "start_time": "2021-12-06T08:23:21.865Z"
   },
   {
    "duration": 367,
    "start_time": "2021-12-06T08:23:34.973Z"
   },
   {
    "duration": 444,
    "start_time": "2021-12-06T08:24:10.269Z"
   },
   {
    "duration": 539,
    "start_time": "2021-12-06T08:24:28.155Z"
   },
   {
    "duration": 459,
    "start_time": "2021-12-06T08:28:20.332Z"
   },
   {
    "duration": 628,
    "start_time": "2021-12-06T08:28:29.330Z"
   },
   {
    "duration": 4,
    "start_time": "2021-12-06T09:28:15.847Z"
   },
   {
    "duration": 615,
    "start_time": "2021-12-06T09:28:29.379Z"
   },
   {
    "duration": 745,
    "start_time": "2021-12-06T09:28:38.542Z"
   },
   {
    "duration": 628,
    "start_time": "2021-12-06T09:31:40.738Z"
   },
   {
    "duration": 945,
    "start_time": "2021-12-06T09:32:01.200Z"
   },
   {
    "duration": 962,
    "start_time": "2021-12-06T09:32:47.578Z"
   },
   {
    "duration": 643,
    "start_time": "2021-12-06T09:35:11.128Z"
   },
   {
    "duration": 174,
    "start_time": "2021-12-06T09:39:13.815Z"
   },
   {
    "duration": 321,
    "start_time": "2021-12-06T09:39:21.764Z"
   },
   {
    "duration": 233,
    "start_time": "2021-12-06T09:40:23.791Z"
   },
   {
    "duration": 224,
    "start_time": "2021-12-06T09:41:22.779Z"
   },
   {
    "duration": 231,
    "start_time": "2021-12-06T09:44:06.946Z"
   },
   {
    "duration": 234,
    "start_time": "2021-12-06T09:44:13.592Z"
   },
   {
    "duration": 241,
    "start_time": "2021-12-06T09:44:18.189Z"
   },
   {
    "duration": 1389,
    "start_time": "2021-12-06T09:44:37.178Z"
   },
   {
    "duration": 63,
    "start_time": "2021-12-06T09:44:38.569Z"
   },
   {
    "duration": 81,
    "start_time": "2021-12-06T09:44:38.635Z"
   },
   {
    "duration": 30,
    "start_time": "2021-12-06T09:44:38.718Z"
   },
   {
    "duration": 8,
    "start_time": "2021-12-06T09:44:38.749Z"
   },
   {
    "duration": 38,
    "start_time": "2021-12-06T09:44:38.759Z"
   },
   {
    "duration": 117,
    "start_time": "2021-12-06T09:44:38.798Z"
   },
   {
    "duration": 4,
    "start_time": "2021-12-06T09:44:38.919Z"
   },
   {
    "duration": 81,
    "start_time": "2021-12-06T09:44:38.925Z"
   },
   {
    "duration": 7,
    "start_time": "2021-12-06T09:44:39.007Z"
   },
   {
    "duration": 14,
    "start_time": "2021-12-06T09:44:39.016Z"
   },
   {
    "duration": 6,
    "start_time": "2021-12-06T09:44:39.032Z"
   },
   {
    "duration": 101,
    "start_time": "2021-12-06T09:44:39.039Z"
   },
   {
    "duration": 120,
    "start_time": "2021-12-06T09:44:39.142Z"
   },
   {
    "duration": 89,
    "start_time": "2021-12-06T09:44:39.263Z"
   },
   {
    "duration": 22,
    "start_time": "2021-12-06T09:44:39.353Z"
   },
   {
    "duration": 32,
    "start_time": "2021-12-06T09:44:39.376Z"
   },
   {
    "duration": 16,
    "start_time": "2021-12-06T09:44:39.409Z"
   },
   {
    "duration": 5,
    "start_time": "2021-12-06T09:44:39.426Z"
   },
   {
    "duration": 313,
    "start_time": "2021-12-06T09:44:39.432Z"
   },
   {
    "duration": 15,
    "start_time": "2021-12-06T09:44:39.747Z"
   },
   {
    "duration": 29,
    "start_time": "2021-12-06T09:44:39.763Z"
   },
   {
    "duration": 3,
    "start_time": "2021-12-06T09:44:39.795Z"
   },
   {
    "duration": 29,
    "start_time": "2021-12-06T09:44:39.800Z"
   },
   {
    "duration": 1015,
    "start_time": "2021-12-06T09:44:39.830Z"
   },
   {
    "duration": 237,
    "start_time": "2021-12-06T09:44:40.846Z"
   },
   {
    "duration": 220,
    "start_time": "2021-12-06T09:44:41.085Z"
   },
   {
    "duration": 226,
    "start_time": "2021-12-06T09:44:44.997Z"
   },
   {
    "duration": 235,
    "start_time": "2021-12-06T09:44:46.064Z"
   },
   {
    "duration": 68,
    "start_time": "2021-12-06T09:45:38.025Z"
   },
   {
    "duration": 1435,
    "start_time": "2021-12-06T09:46:04.694Z"
   },
   {
    "duration": 11,
    "start_time": "2021-12-06T11:00:42.947Z"
   },
   {
    "duration": 95,
    "start_time": "2021-12-06T11:00:45.439Z"
   },
   {
    "duration": 12,
    "start_time": "2021-12-06T11:02:45.719Z"
   },
   {
    "duration": 9,
    "start_time": "2021-12-06T11:03:02.444Z"
   },
   {
    "duration": 11,
    "start_time": "2021-12-06T11:03:17.917Z"
   },
   {
    "duration": 17,
    "start_time": "2021-12-06T11:27:17.185Z"
   },
   {
    "duration": 15,
    "start_time": "2021-12-06T11:27:32.589Z"
   },
   {
    "duration": 17,
    "start_time": "2021-12-06T11:27:52.972Z"
   },
   {
    "duration": 2036,
    "start_time": "2021-12-06T11:28:17.421Z"
   },
   {
    "duration": 57,
    "start_time": "2021-12-06T11:28:19.459Z"
   },
   {
    "duration": 77,
    "start_time": "2021-12-06T11:28:19.518Z"
   },
   {
    "duration": 29,
    "start_time": "2021-12-06T11:28:19.597Z"
   },
   {
    "duration": 7,
    "start_time": "2021-12-06T11:28:19.628Z"
   },
   {
    "duration": 9,
    "start_time": "2021-12-06T11:28:19.637Z"
   },
   {
    "duration": 146,
    "start_time": "2021-12-06T11:28:19.647Z"
   },
   {
    "duration": 4,
    "start_time": "2021-12-06T11:28:19.795Z"
   },
   {
    "duration": 70,
    "start_time": "2021-12-06T11:28:19.800Z"
   },
   {
    "duration": 7,
    "start_time": "2021-12-06T11:28:19.872Z"
   },
   {
    "duration": 9,
    "start_time": "2021-12-06T11:28:19.892Z"
   },
   {
    "duration": 5,
    "start_time": "2021-12-06T11:28:19.903Z"
   },
   {
    "duration": 98,
    "start_time": "2021-12-06T11:28:19.909Z"
   },
   {
    "duration": 131,
    "start_time": "2021-12-06T11:28:20.009Z"
   },
   {
    "duration": 92,
    "start_time": "2021-12-06T11:28:20.142Z"
   },
   {
    "duration": 22,
    "start_time": "2021-12-06T11:28:20.235Z"
   },
   {
    "duration": 40,
    "start_time": "2021-12-06T11:28:20.258Z"
   },
   {
    "duration": 22,
    "start_time": "2021-12-06T12:59:36.084Z"
   },
   {
    "duration": 12,
    "start_time": "2021-12-06T13:02:52.792Z"
   },
   {
    "duration": 15,
    "start_time": "2021-12-06T13:16:26.575Z"
   },
   {
    "duration": 15,
    "start_time": "2021-12-06T13:17:02.749Z"
   },
   {
    "duration": 1440,
    "start_time": "2021-12-06T13:17:22.709Z"
   },
   {
    "duration": 59,
    "start_time": "2021-12-06T13:17:24.151Z"
   },
   {
    "duration": 56,
    "start_time": "2021-12-06T13:17:24.212Z"
   },
   {
    "duration": 44,
    "start_time": "2021-12-06T13:17:24.270Z"
   },
   {
    "duration": 8,
    "start_time": "2021-12-06T13:17:24.316Z"
   },
   {
    "duration": 14,
    "start_time": "2021-12-06T13:17:24.325Z"
   },
   {
    "duration": 142,
    "start_time": "2021-12-06T13:17:24.341Z"
   },
   {
    "duration": 8,
    "start_time": "2021-12-06T13:17:24.485Z"
   },
   {
    "duration": 95,
    "start_time": "2021-12-06T13:17:24.495Z"
   },
   {
    "duration": 7,
    "start_time": "2021-12-06T13:17:24.591Z"
   },
   {
    "duration": 12,
    "start_time": "2021-12-06T13:17:24.599Z"
   },
   {
    "duration": 4,
    "start_time": "2021-12-06T13:17:24.613Z"
   },
   {
    "duration": 95,
    "start_time": "2021-12-06T13:17:24.619Z"
   },
   {
    "duration": 122,
    "start_time": "2021-12-06T13:17:24.716Z"
   },
   {
    "duration": 96,
    "start_time": "2021-12-06T13:17:24.840Z"
   },
   {
    "duration": 24,
    "start_time": "2021-12-06T13:17:24.938Z"
   },
   {
    "duration": 38,
    "start_time": "2021-12-06T13:17:24.964Z"
   },
   {
    "duration": 12,
    "start_time": "2021-12-06T13:17:25.004Z"
   },
   {
    "duration": 295,
    "start_time": "2021-12-06T13:17:30.835Z"
   },
   {
    "duration": 16,
    "start_time": "2021-12-06T13:19:41.952Z"
   },
   {
    "duration": 15,
    "start_time": "2021-12-06T13:21:35.467Z"
   },
   {
    "duration": 969,
    "start_time": "2021-12-06T13:23:03.951Z"
   },
   {
    "duration": 20,
    "start_time": "2021-12-06T13:23:53.760Z"
   },
   {
    "duration": 15,
    "start_time": "2021-12-06T13:23:58.523Z"
   },
   {
    "duration": 5832,
    "start_time": "2021-12-06T13:24:03.741Z"
   },
   {
    "duration": 1349,
    "start_time": "2021-12-06T13:24:33.499Z"
   },
   {
    "duration": 56,
    "start_time": "2021-12-06T13:24:34.850Z"
   },
   {
    "duration": 55,
    "start_time": "2021-12-06T13:24:34.908Z"
   },
   {
    "duration": 44,
    "start_time": "2021-12-06T13:24:34.965Z"
   },
   {
    "duration": 8,
    "start_time": "2021-12-06T13:24:35.011Z"
   },
   {
    "duration": 10,
    "start_time": "2021-12-06T13:24:35.021Z"
   },
   {
    "duration": 138,
    "start_time": "2021-12-06T13:24:35.033Z"
   },
   {
    "duration": 4,
    "start_time": "2021-12-06T13:24:35.173Z"
   },
   {
    "duration": 77,
    "start_time": "2021-12-06T13:24:35.179Z"
   },
   {
    "duration": 6,
    "start_time": "2021-12-06T13:24:35.258Z"
   },
   {
    "duration": 26,
    "start_time": "2021-12-06T13:24:35.266Z"
   },
   {
    "duration": 5,
    "start_time": "2021-12-06T13:24:35.293Z"
   },
   {
    "duration": 79,
    "start_time": "2021-12-06T13:24:35.299Z"
   },
   {
    "duration": 128,
    "start_time": "2021-12-06T13:24:35.380Z"
   },
   {
    "duration": 92,
    "start_time": "2021-12-06T13:24:35.510Z"
   },
   {
    "duration": 21,
    "start_time": "2021-12-06T13:24:35.604Z"
   },
   {
    "duration": 20,
    "start_time": "2021-12-06T13:24:35.626Z"
   },
   {
    "duration": 12,
    "start_time": "2021-12-06T13:24:35.647Z"
   },
   {
    "duration": 15,
    "start_time": "2021-12-06T13:24:40.317Z"
   },
   {
    "duration": 1056,
    "start_time": "2021-12-06T13:24:43.886Z"
   },
   {
    "duration": 64,
    "start_time": "2021-12-06T13:25:57.336Z"
   },
   {
    "duration": 7,
    "start_time": "2021-12-06T13:26:04.010Z"
   },
   {
    "duration": 8,
    "start_time": "2021-12-06T13:26:57.009Z"
   },
   {
    "duration": 1405,
    "start_time": "2021-12-06T13:59:35.667Z"
   },
   {
    "duration": 60,
    "start_time": "2021-12-06T13:59:37.074Z"
   },
   {
    "duration": 75,
    "start_time": "2021-12-06T13:59:37.136Z"
   },
   {
    "duration": 29,
    "start_time": "2021-12-06T13:59:37.212Z"
   },
   {
    "duration": 8,
    "start_time": "2021-12-06T13:59:37.243Z"
   },
   {
    "duration": 18,
    "start_time": "2021-12-06T13:59:37.252Z"
   },
   {
    "duration": 122,
    "start_time": "2021-12-06T13:59:37.292Z"
   },
   {
    "duration": 5,
    "start_time": "2021-12-06T13:59:37.416Z"
   },
   {
    "duration": 77,
    "start_time": "2021-12-06T13:59:37.423Z"
   },
   {
    "duration": 7,
    "start_time": "2021-12-06T13:59:37.502Z"
   },
   {
    "duration": 26,
    "start_time": "2021-12-06T13:59:37.510Z"
   },
   {
    "duration": 15,
    "start_time": "2021-12-06T13:59:37.537Z"
   },
   {
    "duration": 98,
    "start_time": "2021-12-06T13:59:37.554Z"
   },
   {
    "duration": 115,
    "start_time": "2021-12-06T13:59:37.653Z"
   },
   {
    "duration": 99,
    "start_time": "2021-12-06T13:59:37.770Z"
   },
   {
    "duration": 30,
    "start_time": "2021-12-06T13:59:37.871Z"
   },
   {
    "duration": 20,
    "start_time": "2021-12-06T13:59:37.903Z"
   },
   {
    "duration": 12,
    "start_time": "2021-12-06T13:59:37.924Z"
   },
   {
    "duration": 14,
    "start_time": "2021-12-06T13:59:49.505Z"
   },
   {
    "duration": 7,
    "start_time": "2021-12-06T13:59:58.368Z"
   },
   {
    "duration": 2853,
    "start_time": "2021-12-06T17:57:52.055Z"
   },
   {
    "duration": 92,
    "start_time": "2021-12-06T17:57:56.793Z"
   },
   {
    "duration": 166,
    "start_time": "2021-12-06T17:58:05.088Z"
   },
   {
    "duration": 52,
    "start_time": "2021-12-06T17:58:07.782Z"
   },
   {
    "duration": 13,
    "start_time": "2021-12-06T17:58:14.052Z"
   },
   {
    "duration": 14,
    "start_time": "2021-12-06T17:58:19.941Z"
   },
   {
    "duration": 163,
    "start_time": "2021-12-06T17:58:23.314Z"
   },
   {
    "duration": 7,
    "start_time": "2021-12-06T17:58:29.751Z"
   },
   {
    "duration": 15,
    "start_time": "2021-12-06T17:58:38.698Z"
   },
   {
    "duration": 20,
    "start_time": "2021-12-06T17:58:46.050Z"
   },
   {
    "duration": 17,
    "start_time": "2021-12-06T17:58:47.518Z"
   },
   {
    "duration": 212,
    "start_time": "2021-12-06T18:03:47.168Z"
   },
   {
    "duration": 186,
    "start_time": "2021-12-06T18:03:50.253Z"
   },
   {
    "duration": 182,
    "start_time": "2021-12-06T18:03:54.327Z"
   },
   {
    "duration": 49,
    "start_time": "2021-12-06T18:05:03.263Z"
   },
   {
    "duration": 45,
    "start_time": "2021-12-06T18:05:30.378Z"
   },
   {
    "duration": 57,
    "start_time": "2021-12-06T18:06:40.812Z"
   },
   {
    "duration": 14,
    "start_time": "2021-12-06T18:09:25.059Z"
   },
   {
    "duration": 38,
    "start_time": "2021-12-06T18:10:45.396Z"
   },
   {
    "duration": 21,
    "start_time": "2021-12-06T18:12:22.377Z"
   },
   {
    "duration": 53,
    "start_time": "2021-12-06T18:14:31.291Z"
   },
   {
    "duration": 21,
    "start_time": "2021-12-06T18:14:52.241Z"
   },
   {
    "duration": 10,
    "start_time": "2021-12-06T18:15:39.334Z"
   },
   {
    "duration": 15,
    "start_time": "2021-12-06T18:21:57.644Z"
   },
   {
    "duration": 468,
    "start_time": "2021-12-06T18:24:14.271Z"
   },
   {
    "duration": 16,
    "start_time": "2021-12-06T18:24:30.593Z"
   },
   {
    "duration": 12,
    "start_time": "2021-12-06T18:24:31.837Z"
   },
   {
    "duration": 517,
    "start_time": "2021-12-06T18:24:49.982Z"
   },
   {
    "duration": 344,
    "start_time": "2021-12-06T18:27:30.447Z"
   },
   {
    "duration": 440,
    "start_time": "2021-12-06T18:27:44.508Z"
   },
   {
    "duration": 2109,
    "start_time": "2021-12-06T18:28:55.386Z"
   },
   {
    "duration": 129,
    "start_time": "2021-12-06T18:28:57.498Z"
   },
   {
    "duration": 112,
    "start_time": "2021-12-06T18:28:57.630Z"
   },
   {
    "duration": 77,
    "start_time": "2021-12-06T18:28:57.745Z"
   },
   {
    "duration": 12,
    "start_time": "2021-12-06T18:28:57.825Z"
   },
   {
    "duration": 14,
    "start_time": "2021-12-06T18:28:57.843Z"
   },
   {
    "duration": 211,
    "start_time": "2021-12-06T18:28:57.860Z"
   },
   {
    "duration": 5,
    "start_time": "2021-12-06T18:28:58.075Z"
   },
   {
    "duration": 34,
    "start_time": "2021-12-06T18:28:58.083Z"
   },
   {
    "duration": 15,
    "start_time": "2021-12-06T18:28:58.120Z"
   },
   {
    "duration": 12,
    "start_time": "2021-12-06T18:28:58.138Z"
   },
   {
    "duration": 155,
    "start_time": "2021-12-06T18:28:58.153Z"
   },
   {
    "duration": 178,
    "start_time": "2021-12-06T18:28:58.318Z"
   },
   {
    "duration": 149,
    "start_time": "2021-12-06T18:28:58.499Z"
   },
   {
    "duration": 124,
    "start_time": "2021-12-06T18:29:05.038Z"
   },
   {
    "duration": 59,
    "start_time": "2021-12-06T18:29:07.548Z"
   },
   {
    "duration": 15,
    "start_time": "2021-12-06T18:31:11.098Z"
   },
   {
    "duration": 2315,
    "start_time": "2021-12-06T18:31:59.820Z"
   },
   {
    "duration": 95,
    "start_time": "2021-12-06T18:32:02.138Z"
   },
   {
    "duration": 117,
    "start_time": "2021-12-06T18:32:02.238Z"
   },
   {
    "duration": 67,
    "start_time": "2021-12-06T18:32:02.358Z"
   },
   {
    "duration": 11,
    "start_time": "2021-12-06T18:32:02.428Z"
   },
   {
    "duration": 14,
    "start_time": "2021-12-06T18:32:02.442Z"
   },
   {
    "duration": 206,
    "start_time": "2021-12-06T18:32:02.458Z"
   },
   {
    "duration": 5,
    "start_time": "2021-12-06T18:32:02.668Z"
   },
   {
    "duration": 15,
    "start_time": "2021-12-06T18:32:02.676Z"
   },
   {
    "duration": 35,
    "start_time": "2021-12-06T18:32:02.693Z"
   },
   {
    "duration": 13,
    "start_time": "2021-12-06T18:32:02.731Z"
   },
   {
    "duration": 139,
    "start_time": "2021-12-06T18:32:02.747Z"
   },
   {
    "duration": 181,
    "start_time": "2021-12-06T18:32:02.889Z"
   },
   {
    "duration": 145,
    "start_time": "2021-12-06T18:32:03.073Z"
   },
   {
    "duration": 122,
    "start_time": "2021-12-06T18:32:06.032Z"
   },
   {
    "duration": 164,
    "start_time": "2021-12-06T18:32:07.750Z"
   },
   {
    "duration": 40,
    "start_time": "2021-12-06T18:32:14.679Z"
   },
   {
    "duration": 34,
    "start_time": "2021-12-06T18:32:29.210Z"
   },
   {
    "duration": 15,
    "start_time": "2021-12-06T18:32:35.270Z"
   },
   {
    "duration": 14,
    "start_time": "2021-12-06T18:32:39.052Z"
   },
   {
    "duration": 18,
    "start_time": "2021-12-06T18:32:40.170Z"
   },
   {
    "duration": 1432,
    "start_time": "2021-12-06T18:32:43.313Z"
   },
   {
    "duration": 29,
    "start_time": "2021-12-06T18:32:53.205Z"
   },
   {
    "duration": 49,
    "start_time": "2021-12-06T18:33:13.243Z"
   },
   {
    "duration": 32,
    "start_time": "2021-12-06T18:33:42.654Z"
   },
   {
    "duration": 28,
    "start_time": "2021-12-06T18:37:30.349Z"
   },
   {
    "duration": 502,
    "start_time": "2021-12-06T18:37:33.058Z"
   },
   {
    "duration": 373,
    "start_time": "2021-12-06T18:37:46.900Z"
   },
   {
    "duration": 13,
    "start_time": "2021-12-06T18:37:56.673Z"
   },
   {
    "duration": 7999,
    "start_time": "2021-12-06T18:38:51.433Z"
   },
   {
    "duration": 16,
    "start_time": "2021-12-06T18:39:28.430Z"
   },
   {
    "duration": 22,
    "start_time": "2021-12-06T18:40:04.279Z"
   },
   {
    "duration": 34,
    "start_time": "2021-12-06T18:42:24.026Z"
   },
   {
    "duration": 6,
    "start_time": "2021-12-06T19:01:05.102Z"
   },
   {
    "duration": 95,
    "start_time": "2021-12-06T19:01:18.940Z"
   },
   {
    "duration": 612,
    "start_time": "2021-12-06T19:01:33.246Z"
   },
   {
    "duration": 1524,
    "start_time": "2021-12-06T19:02:02.329Z"
   },
   {
    "duration": 510,
    "start_time": "2021-12-06T19:02:19.417Z"
   },
   {
    "duration": 472,
    "start_time": "2021-12-06T19:02:20.703Z"
   },
   {
    "duration": 478,
    "start_time": "2021-12-06T19:02:22.539Z"
   },
   {
    "duration": 15,
    "start_time": "2021-12-06T19:02:58.735Z"
   },
   {
    "duration": 72,
    "start_time": "2021-12-06T19:10:33.466Z"
   },
   {
    "duration": 15,
    "start_time": "2021-12-06T19:11:00.284Z"
   },
   {
    "duration": 356,
    "start_time": "2021-12-06T19:11:36.986Z"
   },
   {
    "duration": 15,
    "start_time": "2021-12-06T19:12:03.869Z"
   },
   {
    "duration": 77,
    "start_time": "2021-12-06T19:13:52.545Z"
   },
   {
    "duration": 1396,
    "start_time": "2021-12-06T19:14:07.463Z"
   },
   {
    "duration": 304,
    "start_time": "2021-12-06T19:14:36.548Z"
   },
   {
    "duration": 1313,
    "start_time": "2021-12-06T19:14:41.332Z"
   },
   {
    "duration": 1594,
    "start_time": "2021-12-06T19:52:12.693Z"
   },
   {
    "duration": 302,
    "start_time": "2021-12-06T19:52:28.554Z"
   },
   {
    "duration": 9,
    "start_time": "2021-12-06T19:52:37.969Z"
   },
   {
    "duration": 14,
    "start_time": "2021-12-06T19:52:49.762Z"
   },
   {
    "duration": 2393,
    "start_time": "2021-12-06T19:53:05.833Z"
   },
   {
    "duration": 95,
    "start_time": "2021-12-06T19:53:12.293Z"
   },
   {
    "duration": 10,
    "start_time": "2021-12-06T19:53:18.283Z"
   },
   {
    "duration": 337,
    "start_time": "2021-12-06T19:53:51.051Z"
   },
   {
    "duration": 8827,
    "start_time": "2021-12-06T19:53:56.498Z"
   },
   {
    "duration": 8,
    "start_time": "2021-12-06T19:54:22.575Z"
   },
   {
    "duration": 12,
    "start_time": "2021-12-06T19:54:36.896Z"
   },
   {
    "duration": 8,
    "start_time": "2021-12-06T20:19:31.443Z"
   },
   {
    "duration": 11,
    "start_time": "2021-12-06T20:20:12.550Z"
   },
   {
    "duration": 21,
    "start_time": "2021-12-06T20:21:26.160Z"
   },
   {
    "duration": 1903,
    "start_time": "2021-12-07T13:24:46.697Z"
   },
   {
    "duration": 87,
    "start_time": "2021-12-07T13:24:48.603Z"
   },
   {
    "duration": 107,
    "start_time": "2021-12-07T13:24:48.693Z"
   },
   {
    "duration": 54,
    "start_time": "2021-12-07T13:24:48.802Z"
   },
   {
    "duration": 11,
    "start_time": "2021-12-07T13:24:48.858Z"
   },
   {
    "duration": 52,
    "start_time": "2021-12-07T13:24:48.872Z"
   },
   {
    "duration": 173,
    "start_time": "2021-12-07T13:24:48.927Z"
   },
   {
    "duration": 5,
    "start_time": "2021-12-07T13:24:49.102Z"
   },
   {
    "duration": 9,
    "start_time": "2021-12-07T13:24:49.123Z"
   },
   {
    "duration": 14,
    "start_time": "2021-12-07T13:24:49.134Z"
   },
   {
    "duration": 10,
    "start_time": "2021-12-07T13:24:49.150Z"
   },
   {
    "duration": 140,
    "start_time": "2021-12-07T13:24:49.162Z"
   },
   {
    "duration": 159,
    "start_time": "2021-12-07T13:24:49.304Z"
   },
   {
    "duration": 135,
    "start_time": "2021-12-07T13:24:49.466Z"
   },
   {
    "duration": 42,
    "start_time": "2021-12-07T13:24:49.603Z"
   },
   {
    "duration": 27,
    "start_time": "2021-12-07T13:24:49.647Z"
   },
   {
    "duration": 12,
    "start_time": "2021-12-07T13:24:49.676Z"
   },
   {
    "duration": 33,
    "start_time": "2021-12-07T13:24:49.690Z"
   },
   {
    "duration": 19,
    "start_time": "2021-12-07T13:24:49.725Z"
   },
   {
    "duration": 542,
    "start_time": "2021-12-07T13:24:49.746Z"
   },
   {
    "duration": 34,
    "start_time": "2021-12-07T13:24:50.291Z"
   },
   {
    "duration": 12,
    "start_time": "2021-12-07T13:24:50.327Z"
   },
   {
    "duration": 13,
    "start_time": "2021-12-07T13:24:50.341Z"
   },
   {
    "duration": 18,
    "start_time": "2021-12-07T13:24:50.357Z"
   },
   {
    "duration": 501,
    "start_time": "2021-12-07T13:24:53.526Z"
   },
   {
    "duration": 48,
    "start_time": "2021-12-07T13:25:05.749Z"
   }
  ],
  "kernelspec": {
   "display_name": "Python 3",
   "language": "python",
   "name": "python3"
  },
  "language_info": {
   "codemirror_mode": {
    "name": "ipython",
    "version": 3
   },
   "file_extension": ".py",
   "mimetype": "text/x-python",
   "name": "python",
   "nbconvert_exporter": "python",
   "pygments_lexer": "ipython3",
   "version": "3.7.8"
  },
  "toc": {
   "base_numbering": 1,
   "nav_menu": {},
   "number_sections": true,
   "sideBar": true,
   "skip_h1_title": true,
   "title_cell": "Table of Contents",
   "title_sidebar": "Contents",
   "toc_cell": false,
   "toc_position": {
    "height": "calc(100% - 180px)",
    "left": "10px",
    "top": "150px",
    "width": "207.81px"
   },
   "toc_section_display": true,
   "toc_window_display": true
  }
 },
 "nbformat": 4,
 "nbformat_minor": 2
}
